{
  "cells": [
    {
      "cell_type": "markdown",
      "id": "22b81063",
      "metadata": {
        "id": "22b81063"
      },
      "source": [
        "Oleksandra Mykhailova,\n",
        "Agata Kozioł,\n",
        "Mikita Charniakou"
      ]
    },
    {
      "cell_type": "code",
      "execution_count": null,
      "id": "92ca20a4",
      "metadata": {
        "id": "92ca20a4"
      },
      "outputs": [],
      "source": [
        "import pandas as pd\n",
        "import numpy as np\n",
        "import seaborn as sns\n",
        "import matplotlib.pyplot as plt\n",
        "\n",
        "import sklearn\n",
        "from sklearn.model_selection import train_test_split\n",
        "from sklearn.pipeline import Pipeline\n",
        "from sklearn.compose import ColumnTransformer\n",
        "from sklearn.preprocessing import OneHotEncoder\n",
        "from sklearn.preprocessing import OrdinalEncoder\n",
        "from sklearn.preprocessing import MinMaxScaler\n",
        "from sklearn.experimental import enable_iterative_imputer\n",
        "from sklearn.impute import IterativeImputer\n",
        "\n",
        "from imblearn.over_sampling import SMOTENC\n",
        "from imblearn.over_sampling import SMOTE\n",
        "\n",
        "from sklearn.feature_selection import SelectFromModel\n",
        "from sklearn.ensemble import RandomForestClassifier\n",
        "from sklearn.linear_model import LogisticRegression\n",
        "from sklearn.model_selection import GridSearchCV\n",
        "from sklearn.metrics import f1_score, roc_auc_score,accuracy_score,confusion_matrix, precision_recall_curve, auc, roc_curve, recall_score, classification_report\n",
        "from sklearn.model_selection import cross_val_score\n",
        "\n",
        "from sklearn.naive_bayes import GaussianNB\n",
        "from sklearn.svm import SVC\n",
        "from sklearn.tree import DecisionTreeClassifier\n",
        "from sklearn.neighbors import KNeighborsClassifier\n",
        "from sklearn.ensemble import GradientBoostingClassifier\n",
        "from sklearn.linear_model import SGDClassifier\n",
        "from sklearn.ensemble import GradientBoostingClassifier\n",
        "from sklearn.ensemble import AdaBoostClassifier\n",
        "from xgboost import XGBClassifier\n",
        "\n",
        "\n",
        "from IPython.display import Markdown as md\n",
        "%matplotlib inline "
      ]
    },
    {
      "cell_type": "markdown",
      "source": [
        "Dataset: https://www.kaggle.com/datasets/fedesoriano/stroke-prediction-dataset?taskId=3281"
      ],
      "metadata": {
        "id": "A4HbwwPO0OhH"
      },
      "id": "A4HbwwPO0OhH"
    },
    {
      "cell_type": "code",
      "execution_count": null,
      "id": "1ed2f906",
      "metadata": {
        "id": "1ed2f906"
      },
      "outputs": [],
      "source": [
        "df_raw = pd.read_csv('healthcare-dataset-stroke-data.csv', index_col=0)"
      ]
    },
    {
      "cell_type": "markdown",
      "id": "d8c9721c",
      "metadata": {
        "id": "d8c9721c"
      },
      "source": [
        "# Preprocessing"
      ]
    },
    {
      "cell_type": "markdown",
      "id": "7397c530",
      "metadata": {
        "id": "7397c530"
      },
      "source": [
        "### Data description"
      ]
    },
    {
      "cell_type": "code",
      "execution_count": null,
      "id": "f4a7c972",
      "metadata": {
        "id": "f4a7c972",
        "outputId": "61c37894-cc47-40f8-c7b5-ce92d8873a28"
      },
      "outputs": [
        {
          "data": {
            "text/html": [
              "<div>\n",
              "<style scoped>\n",
              "    .dataframe tbody tr th:only-of-type {\n",
              "        vertical-align: middle;\n",
              "    }\n",
              "\n",
              "    .dataframe tbody tr th {\n",
              "        vertical-align: top;\n",
              "    }\n",
              "\n",
              "    .dataframe thead th {\n",
              "        text-align: right;\n",
              "    }\n",
              "</style>\n",
              "<table border=\"1\" class=\"dataframe\">\n",
              "  <thead>\n",
              "    <tr style=\"text-align: right;\">\n",
              "      <th></th>\n",
              "      <th>gender</th>\n",
              "      <th>age</th>\n",
              "      <th>hypertension</th>\n",
              "      <th>heart_disease</th>\n",
              "      <th>ever_married</th>\n",
              "      <th>work_type</th>\n",
              "      <th>Residence_type</th>\n",
              "      <th>avg_glucose_level</th>\n",
              "      <th>bmi</th>\n",
              "      <th>smoking_status</th>\n",
              "      <th>stroke</th>\n",
              "    </tr>\n",
              "    <tr>\n",
              "      <th>id</th>\n",
              "      <th></th>\n",
              "      <th></th>\n",
              "      <th></th>\n",
              "      <th></th>\n",
              "      <th></th>\n",
              "      <th></th>\n",
              "      <th></th>\n",
              "      <th></th>\n",
              "      <th></th>\n",
              "      <th></th>\n",
              "      <th></th>\n",
              "    </tr>\n",
              "  </thead>\n",
              "  <tbody>\n",
              "    <tr>\n",
              "      <th>9046</th>\n",
              "      <td>Male</td>\n",
              "      <td>67.0</td>\n",
              "      <td>0</td>\n",
              "      <td>1</td>\n",
              "      <td>Yes</td>\n",
              "      <td>Private</td>\n",
              "      <td>Urban</td>\n",
              "      <td>228.69</td>\n",
              "      <td>36.6</td>\n",
              "      <td>formerly smoked</td>\n",
              "      <td>1</td>\n",
              "    </tr>\n",
              "    <tr>\n",
              "      <th>51676</th>\n",
              "      <td>Female</td>\n",
              "      <td>61.0</td>\n",
              "      <td>0</td>\n",
              "      <td>0</td>\n",
              "      <td>Yes</td>\n",
              "      <td>Self-employed</td>\n",
              "      <td>Rural</td>\n",
              "      <td>202.21</td>\n",
              "      <td>NaN</td>\n",
              "      <td>never smoked</td>\n",
              "      <td>1</td>\n",
              "    </tr>\n",
              "    <tr>\n",
              "      <th>31112</th>\n",
              "      <td>Male</td>\n",
              "      <td>80.0</td>\n",
              "      <td>0</td>\n",
              "      <td>1</td>\n",
              "      <td>Yes</td>\n",
              "      <td>Private</td>\n",
              "      <td>Rural</td>\n",
              "      <td>105.92</td>\n",
              "      <td>32.5</td>\n",
              "      <td>never smoked</td>\n",
              "      <td>1</td>\n",
              "    </tr>\n",
              "    <tr>\n",
              "      <th>60182</th>\n",
              "      <td>Female</td>\n",
              "      <td>49.0</td>\n",
              "      <td>0</td>\n",
              "      <td>0</td>\n",
              "      <td>Yes</td>\n",
              "      <td>Private</td>\n",
              "      <td>Urban</td>\n",
              "      <td>171.23</td>\n",
              "      <td>34.4</td>\n",
              "      <td>smokes</td>\n",
              "      <td>1</td>\n",
              "    </tr>\n",
              "    <tr>\n",
              "      <th>1665</th>\n",
              "      <td>Female</td>\n",
              "      <td>79.0</td>\n",
              "      <td>1</td>\n",
              "      <td>0</td>\n",
              "      <td>Yes</td>\n",
              "      <td>Self-employed</td>\n",
              "      <td>Rural</td>\n",
              "      <td>174.12</td>\n",
              "      <td>24.0</td>\n",
              "      <td>never smoked</td>\n",
              "      <td>1</td>\n",
              "    </tr>\n",
              "    <tr>\n",
              "      <th>...</th>\n",
              "      <td>...</td>\n",
              "      <td>...</td>\n",
              "      <td>...</td>\n",
              "      <td>...</td>\n",
              "      <td>...</td>\n",
              "      <td>...</td>\n",
              "      <td>...</td>\n",
              "      <td>...</td>\n",
              "      <td>...</td>\n",
              "      <td>...</td>\n",
              "      <td>...</td>\n",
              "    </tr>\n",
              "    <tr>\n",
              "      <th>18234</th>\n",
              "      <td>Female</td>\n",
              "      <td>80.0</td>\n",
              "      <td>1</td>\n",
              "      <td>0</td>\n",
              "      <td>Yes</td>\n",
              "      <td>Private</td>\n",
              "      <td>Urban</td>\n",
              "      <td>83.75</td>\n",
              "      <td>NaN</td>\n",
              "      <td>never smoked</td>\n",
              "      <td>0</td>\n",
              "    </tr>\n",
              "    <tr>\n",
              "      <th>44873</th>\n",
              "      <td>Female</td>\n",
              "      <td>81.0</td>\n",
              "      <td>0</td>\n",
              "      <td>0</td>\n",
              "      <td>Yes</td>\n",
              "      <td>Self-employed</td>\n",
              "      <td>Urban</td>\n",
              "      <td>125.20</td>\n",
              "      <td>40.0</td>\n",
              "      <td>never smoked</td>\n",
              "      <td>0</td>\n",
              "    </tr>\n",
              "    <tr>\n",
              "      <th>19723</th>\n",
              "      <td>Female</td>\n",
              "      <td>35.0</td>\n",
              "      <td>0</td>\n",
              "      <td>0</td>\n",
              "      <td>Yes</td>\n",
              "      <td>Self-employed</td>\n",
              "      <td>Rural</td>\n",
              "      <td>82.99</td>\n",
              "      <td>30.6</td>\n",
              "      <td>never smoked</td>\n",
              "      <td>0</td>\n",
              "    </tr>\n",
              "    <tr>\n",
              "      <th>37544</th>\n",
              "      <td>Male</td>\n",
              "      <td>51.0</td>\n",
              "      <td>0</td>\n",
              "      <td>0</td>\n",
              "      <td>Yes</td>\n",
              "      <td>Private</td>\n",
              "      <td>Rural</td>\n",
              "      <td>166.29</td>\n",
              "      <td>25.6</td>\n",
              "      <td>formerly smoked</td>\n",
              "      <td>0</td>\n",
              "    </tr>\n",
              "    <tr>\n",
              "      <th>44679</th>\n",
              "      <td>Female</td>\n",
              "      <td>44.0</td>\n",
              "      <td>0</td>\n",
              "      <td>0</td>\n",
              "      <td>Yes</td>\n",
              "      <td>Govt_job</td>\n",
              "      <td>Urban</td>\n",
              "      <td>85.28</td>\n",
              "      <td>26.2</td>\n",
              "      <td>Unknown</td>\n",
              "      <td>0</td>\n",
              "    </tr>\n",
              "  </tbody>\n",
              "</table>\n",
              "<p>5110 rows × 11 columns</p>\n",
              "</div>"
            ],
            "text/plain": [
              "       gender   age  hypertension  heart_disease ever_married      work_type  \\\n",
              "id                                                                             \n",
              "9046     Male  67.0             0              1          Yes        Private   \n",
              "51676  Female  61.0             0              0          Yes  Self-employed   \n",
              "31112    Male  80.0             0              1          Yes        Private   \n",
              "60182  Female  49.0             0              0          Yes        Private   \n",
              "1665   Female  79.0             1              0          Yes  Self-employed   \n",
              "...       ...   ...           ...            ...          ...            ...   \n",
              "18234  Female  80.0             1              0          Yes        Private   \n",
              "44873  Female  81.0             0              0          Yes  Self-employed   \n",
              "19723  Female  35.0             0              0          Yes  Self-employed   \n",
              "37544    Male  51.0             0              0          Yes        Private   \n",
              "44679  Female  44.0             0              0          Yes       Govt_job   \n",
              "\n",
              "      Residence_type  avg_glucose_level   bmi   smoking_status  stroke  \n",
              "id                                                                      \n",
              "9046           Urban             228.69  36.6  formerly smoked       1  \n",
              "51676          Rural             202.21   NaN     never smoked       1  \n",
              "31112          Rural             105.92  32.5     never smoked       1  \n",
              "60182          Urban             171.23  34.4           smokes       1  \n",
              "1665           Rural             174.12  24.0     never smoked       1  \n",
              "...              ...                ...   ...              ...     ...  \n",
              "18234          Urban              83.75   NaN     never smoked       0  \n",
              "44873          Urban             125.20  40.0     never smoked       0  \n",
              "19723          Rural              82.99  30.6     never smoked       0  \n",
              "37544          Rural             166.29  25.6  formerly smoked       0  \n",
              "44679          Urban              85.28  26.2          Unknown       0  \n",
              "\n",
              "[5110 rows x 11 columns]"
            ]
          },
          "execution_count": 3,
          "metadata": {},
          "output_type": "execute_result"
        }
      ],
      "source": [
        "df_raw"
      ]
    },
    {
      "cell_type": "code",
      "execution_count": null,
      "id": "0848ced6",
      "metadata": {
        "id": "0848ced6",
        "outputId": "d5e07b64-8483-4f0d-fd50-f836f65f0124"
      },
      "outputs": [
        {
          "data": {
            "text/plain": [
              "(5110, 11)"
            ]
          },
          "execution_count": 4,
          "metadata": {},
          "output_type": "execute_result"
        }
      ],
      "source": [
        "df_raw.shape"
      ]
    },
    {
      "cell_type": "code",
      "execution_count": null,
      "id": "7a4487c4",
      "metadata": {
        "id": "7a4487c4",
        "outputId": "798f0b84-c895-48a5-ec00-de6d5da651d9"
      },
      "outputs": [
        {
          "data": {
            "text/markdown": [
              "In the data there are 5110 observations and 11 variables"
            ],
            "text/plain": [
              "<IPython.core.display.Markdown object>"
            ]
          },
          "execution_count": 5,
          "metadata": {},
          "output_type": "execute_result"
        }
      ],
      "source": [
        "md(\"In the data there are {} observations and {} variables\".format(df_raw.shape[0], df_raw.shape[1]))"
      ]
    },
    {
      "cell_type": "code",
      "execution_count": null,
      "id": "7d3f397a",
      "metadata": {
        "id": "7d3f397a",
        "outputId": "ac528d82-2a4e-416c-9aa2-bfd795e62eb9"
      },
      "outputs": [
        {
          "name": "stdout",
          "output_type": "stream",
          "text": [
            "<class 'pandas.core.frame.DataFrame'>\n",
            "Int64Index: 5110 entries, 9046 to 44679\n",
            "Data columns (total 11 columns):\n",
            " #   Column             Non-Null Count  Dtype  \n",
            "---  ------             --------------  -----  \n",
            " 0   gender             5110 non-null   object \n",
            " 1   age                5110 non-null   float64\n",
            " 2   hypertension       5110 non-null   int64  \n",
            " 3   heart_disease      5110 non-null   int64  \n",
            " 4   ever_married       5110 non-null   object \n",
            " 5   work_type          5110 non-null   object \n",
            " 6   Residence_type     5110 non-null   object \n",
            " 7   avg_glucose_level  5110 non-null   float64\n",
            " 8   bmi                4909 non-null   float64\n",
            " 9   smoking_status     5110 non-null   object \n",
            " 10  stroke             5110 non-null   int64  \n",
            "dtypes: float64(3), int64(3), object(5)\n",
            "memory usage: 479.1+ KB\n"
          ]
        }
      ],
      "source": [
        "df_raw.info()"
      ]
    },
    {
      "cell_type": "markdown",
      "id": "4144db48",
      "metadata": {
        "id": "4144db48"
      },
      "source": [
        "Variables can be categorized into following types: \n",
        "- gender: object: Male/Female/Other [Nominal]\n",
        "- age: float [Continuous]\n",
        "- hypertension: int: 0/1 [Discrete]\n",
        "- heart_disease: int: 0/1 [Discrete]\n",
        "- ever_married: object: Yes/No [Nominal]\n",
        "- work_type: object: Private/Self-employed/children/Govt_job/Never_worked [Nominal]\n",
        "- Residence_type: object: Urban/Rural [Nominal]\n",
        "- avg_glucose_level: float [Continous]\n",
        "- bmi: float [Continous]\n",
        "- smoking_status: object: Unknown/never smoked/formerly smoked/smokes [Nominal]\n",
        "- stroke: int: 0/1 [Discrete]"
      ]
    },
    {
      "cell_type": "code",
      "execution_count": null,
      "id": "fcabab32",
      "metadata": {
        "id": "fcabab32",
        "outputId": "6d84713c-8edf-4d07-8f2c-67e6dad5502a"
      },
      "outputs": [
        {
          "data": {
            "text/plain": [
              "0    4861\n",
              "1     249\n",
              "Name: stroke, dtype: int64"
            ]
          },
          "execution_count": 7,
          "metadata": {},
          "output_type": "execute_result"
        }
      ],
      "source": [
        "df_raw['stroke'].value_counts()"
      ]
    },
    {
      "cell_type": "markdown",
      "id": "d01c540a",
      "metadata": {
        "id": "d01c540a"
      },
      "source": [
        "### Data visualization"
      ]
    },
    {
      "cell_type": "markdown",
      "id": "0f5e7701",
      "metadata": {
        "id": "0f5e7701"
      },
      "source": [
        "#### Our target"
      ]
    },
    {
      "cell_type": "code",
      "execution_count": null,
      "id": "ef28078b",
      "metadata": {
        "id": "ef28078b",
        "outputId": "64b1dfcc-2966-42aa-8e29-5fe3aa3eade3"
      },
      "outputs": [
        {
          "name": "stdout",
          "output_type": "stream",
          "text": [
            "0    4861\n",
            "1     249\n",
            "Name: stroke, dtype: int64\n",
            "\n",
            "Percentage of strokes [1]: 4.87 %\n"
          ]
        }
      ],
      "source": [
        "target_count = df_raw['stroke'].value_counts()\n",
        "print(target_count)\n",
        "print()\n",
        "print('Percentage of strokes [1]:', np.round(100*target_count[1] / target_count.sum(),2), '%')"
      ]
    },
    {
      "cell_type": "markdown",
      "id": "2e8dd238",
      "metadata": {
        "id": "2e8dd238"
      },
      "source": [
        "As we can see we have very imbalanced data. We will have to keep it in mind"
      ]
    },
    {
      "cell_type": "code",
      "execution_count": null,
      "id": "0918e8a0",
      "metadata": {
        "id": "0918e8a0",
        "outputId": "0b7ae58d-801a-404c-b555-53028df020b8"
      },
      "outputs": [
        {
          "data": {
            "image/png": "[encoded data removed]",
            "text/plain": [
              "<Figure size 432x288 with 1 Axes>"
            ]
          },
          "metadata": {
            "needs_background": "light"
          },
          "output_type": "display_data"
        }
      ],
      "source": [
        "target_count.plot(kind='bar')\n",
        "plt.title('Target = Stroke')\n",
        "plt.grid()\n",
        "plt.show()"
      ]
    },
    {
      "cell_type": "markdown",
      "id": "f3ffec64",
      "metadata": {
        "id": "f3ffec64"
      },
      "source": [
        "#### Features"
      ]
    },
    {
      "cell_type": "code",
      "execution_count": null,
      "id": "9786ccf1",
      "metadata": {
        "id": "9786ccf1",
        "outputId": "9c3c48c0-7e5d-4e15-93e0-c5ead514884f"
      },
      "outputs": [
        {
          "name": "stderr",
          "output_type": "stream",
          "text": [
            "C:\\Users\\dell\\anaconda3\\lib\\site-packages\\seaborn\\_decorators.py:36: FutureWarning: Pass the following variable as a keyword arg: x. From version 0.12, the only valid positional argument will be `data`, and passing other arguments without an explicit keyword will result in an error or misinterpretation.\n",
            "  warnings.warn(\n"
          ]
        },
        {
          "data": {
            "text/plain": [
              "<AxesSubplot:xlabel='work_type', ylabel='count'>"
            ]
          },
          "execution_count": 10,
          "metadata": {},
          "output_type": "execute_result"
        },
        {
          "data": {
            "image/png": "[encoded data removed]",
            "text/plain": [
              "<Figure size 432x288 with 1 Axes>"
            ]
          },
          "metadata": {
            "needs_background": "light"
          },
          "output_type": "display_data"
        }
      ],
      "source": [
        "sns.countplot(df_raw['work_type'])"
      ]
    },
    {
      "cell_type": "code",
      "execution_count": null,
      "id": "0dedb861",
      "metadata": {
        "id": "0dedb861",
        "outputId": "b1289c11-9ec3-4122-fd8c-7a3680bedc5e"
      },
      "outputs": [
        {
          "name": "stderr",
          "output_type": "stream",
          "text": [
            "C:\\Users\\dell\\anaconda3\\lib\\site-packages\\seaborn\\_decorators.py:36: FutureWarning: Pass the following variable as a keyword arg: x. From version 0.12, the only valid positional argument will be `data`, and passing other arguments without an explicit keyword will result in an error or misinterpretation.\n",
            "  warnings.warn(\n"
          ]
        },
        {
          "data": {
            "text/plain": [
              "<AxesSubplot:xlabel='Residence_type', ylabel='count'>"
            ]
          },
          "execution_count": 11,
          "metadata": {},
          "output_type": "execute_result"
        },
        {
          "data": {
            "image/png": "[encoded data removed]",
            "text/plain": [
              "<Figure size 432x288 with 1 Axes>"
            ]
          },
          "metadata": {
            "needs_background": "light"
          },
          "output_type": "display_data"
        }
      ],
      "source": [
        "sns.countplot(df_raw['Residence_type'])"
      ]
    },
    {
      "cell_type": "code",
      "execution_count": null,
      "id": "f24b706d",
      "metadata": {
        "id": "f24b706d",
        "outputId": "1a14e16e-2e1e-4c22-89eb-7c23ed8abc71"
      },
      "outputs": [
        {
          "name": "stderr",
          "output_type": "stream",
          "text": [
            "C:\\Users\\dell\\anaconda3\\lib\\site-packages\\seaborn\\_decorators.py:36: FutureWarning: Pass the following variable as a keyword arg: x. From version 0.12, the only valid positional argument will be `data`, and passing other arguments without an explicit keyword will result in an error or misinterpretation.\n",
            "  warnings.warn(\n"
          ]
        },
        {
          "data": {
            "text/plain": [
              "<AxesSubplot:xlabel='smoking_status', ylabel='count'>"
            ]
          },
          "execution_count": 12,
          "metadata": {},
          "output_type": "execute_result"
        },
        {
          "data": {
            "image/png": "[encoded data removed]",
            "text/plain": [
              "<Figure size 432x288 with 1 Axes>"
            ]
          },
          "metadata": {
            "needs_background": "light"
          },
          "output_type": "display_data"
        }
      ],
      "source": [
        "sns.countplot(df_raw['smoking_status'])"
      ]
    },
    {
      "cell_type": "code",
      "execution_count": null,
      "id": "fb64cbab",
      "metadata": {
        "id": "fb64cbab",
        "outputId": "606aab07-223d-4fee-8def-7bfd665933f9"
      },
      "outputs": [
        {
          "name": "stderr",
          "output_type": "stream",
          "text": [
            "C:\\Users\\dell\\anaconda3\\lib\\site-packages\\seaborn\\_decorators.py:36: FutureWarning: Pass the following variable as a keyword arg: x. From version 0.12, the only valid positional argument will be `data`, and passing other arguments without an explicit keyword will result in an error or misinterpretation.\n",
            "  warnings.warn(\n"
          ]
        },
        {
          "data": {
            "text/plain": [
              "<AxesSubplot:xlabel='gender', ylabel='count'>"
            ]
          },
          "execution_count": 13,
          "metadata": {},
          "output_type": "execute_result"
        },
        {
          "data": {
            "image/png": "[encoded data removed]",
            "text/plain": [
              "<Figure size 432x288 with 1 Axes>"
            ]
          },
          "metadata": {
            "needs_background": "light"
          },
          "output_type": "display_data"
        }
      ],
      "source": [
        "sns.countplot(df_raw['gender'])"
      ]
    },
    {
      "cell_type": "code",
      "execution_count": null,
      "id": "b1f42fa4",
      "metadata": {
        "id": "b1f42fa4",
        "outputId": "5a9d5c90-f68a-4af4-ba70-44f5b1f0e03c"
      },
      "outputs": [
        {
          "name": "stderr",
          "output_type": "stream",
          "text": [
            "C:\\Users\\dell\\anaconda3\\lib\\site-packages\\seaborn\\_decorators.py:36: FutureWarning: Pass the following variable as a keyword arg: x. From version 0.12, the only valid positional argument will be `data`, and passing other arguments without an explicit keyword will result in an error or misinterpretation.\n",
            "  warnings.warn(\n"
          ]
        },
        {
          "data": {
            "text/plain": [
              "<AxesSubplot:xlabel='hypertension', ylabel='count'>"
            ]
          },
          "execution_count": 14,
          "metadata": {},
          "output_type": "execute_result"
        },
        {
          "data": {
            "image/png": "[encoded data removed]",
            "text/plain": [
              "<Figure size 432x288 with 1 Axes>"
            ]
          },
          "metadata": {
            "needs_background": "light"
          },
          "output_type": "display_data"
        }
      ],
      "source": [
        "sns.countplot(df_raw['hypertension'])"
      ]
    },
    {
      "cell_type": "code",
      "execution_count": null,
      "id": "e4738a3f",
      "metadata": {
        "id": "e4738a3f",
        "outputId": "57624735-0089-4b7d-f7ba-59134c2f083c"
      },
      "outputs": [
        {
          "name": "stderr",
          "output_type": "stream",
          "text": [
            "C:\\Users\\dell\\anaconda3\\lib\\site-packages\\seaborn\\_decorators.py:36: FutureWarning: Pass the following variable as a keyword arg: x. From version 0.12, the only valid positional argument will be `data`, and passing other arguments without an explicit keyword will result in an error or misinterpretation.\n",
            "  warnings.warn(\n"
          ]
        },
        {
          "data": {
            "text/plain": [
              "<AxesSubplot:xlabel='ever_married', ylabel='count'>"
            ]
          },
          "execution_count": 15,
          "metadata": {},
          "output_type": "execute_result"
        },
        {
          "data": {
            "image/png": "[encoded data removed]",
            "text/plain": [
              "<Figure size 432x288 with 1 Axes>"
            ]
          },
          "metadata": {
            "needs_background": "light"
          },
          "output_type": "display_data"
        }
      ],
      "source": [
        "sns.countplot(df_raw['ever_married'])"
      ]
    },
    {
      "cell_type": "markdown",
      "id": "aa9bc64d",
      "metadata": {
        "id": "aa9bc64d"
      },
      "source": [
        "#### Handling missing values"
      ]
    },
    {
      "cell_type": "code",
      "execution_count": null,
      "id": "3c04145b",
      "metadata": {
        "id": "3c04145b",
        "outputId": "a8239da6-dec5-49ae-fbc1-b6873ff55b69"
      },
      "outputs": [
        {
          "data": {
            "text/plain": [
              "gender                 0\n",
              "age                    0\n",
              "hypertension           0\n",
              "heart_disease          0\n",
              "ever_married           0\n",
              "work_type              0\n",
              "Residence_type         0\n",
              "avg_glucose_level      0\n",
              "bmi                  201\n",
              "smoking_status         0\n",
              "stroke                 0\n",
              "dtype: int64"
            ]
          },
          "execution_count": 16,
          "metadata": {},
          "output_type": "execute_result"
        }
      ],
      "source": [
        "df_raw.isnull().sum()"
      ]
    },
    {
      "cell_type": "code",
      "execution_count": null,
      "id": "af95642b",
      "metadata": {
        "id": "af95642b",
        "outputId": "fb2be412-b3df-4cbf-9060-19130f967477"
      },
      "outputs": [
        {
          "data": {
            "text/markdown": [
              "There are 201 missing values for BMI variable, which is around 3.93% of all BMI observations "
            ],
            "text/plain": [
              "<IPython.core.display.Markdown object>"
            ]
          },
          "execution_count": 17,
          "metadata": {},
          "output_type": "execute_result"
        }
      ],
      "source": [
        "md(\"There are {} missing values for BMI variable, which is around {}% of all BMI observations \".format(df_raw.isnull().sum()['bmi'], round((df_raw.isnull().sum()['bmi']/df_raw.shape[0])*100,2)))"
      ]
    },
    {
      "cell_type": "code",
      "execution_count": null,
      "id": "a50a29dc",
      "metadata": {
        "id": "a50a29dc",
        "outputId": "0dab8ef4-3cb8-4620-f1d1-039f6a0cfabc"
      },
      "outputs": [
        {
          "data": {
            "text/plain": [
              "Female    2994\n",
              "Male      2115\n",
              "Other        1\n",
              "Name: gender, dtype: int64"
            ]
          },
          "execution_count": 18,
          "metadata": {},
          "output_type": "execute_result"
        }
      ],
      "source": [
        "df_raw['gender'].value_counts()"
      ]
    },
    {
      "cell_type": "code",
      "execution_count": null,
      "id": "c458f6d1",
      "metadata": {
        "id": "c458f6d1",
        "outputId": "21ab1c1f-187e-4444-d913-694e1e39837d"
      },
      "outputs": [
        {
          "data": {
            "text/markdown": [
              "There are 1 'Other' values for gender variable, which is around 0.02% of all gender observations "
            ],
            "text/plain": [
              "<IPython.core.display.Markdown object>"
            ]
          },
          "execution_count": 19,
          "metadata": {},
          "output_type": "execute_result"
        }
      ],
      "source": [
        "md(\"There are {} 'Other' values for gender variable, which is around {}% of all gender observations \".format(df_raw['gender'].value_counts()['Other'], round((df_raw['gender'].value_counts()['Other']/df_raw.shape[0])*100,3)))"
      ]
    },
    {
      "cell_type": "code",
      "execution_count": null,
      "id": "76722c2e",
      "metadata": {
        "id": "76722c2e",
        "outputId": "2355a47a-d55d-4084-c459-bfbe7fe61e14"
      },
      "outputs": [
        {
          "data": {
            "text/plain": [
              "never smoked       1892\n",
              "Unknown            1544\n",
              "formerly smoked     885\n",
              "smokes              789\n",
              "Name: smoking_status, dtype: int64"
            ]
          },
          "execution_count": 20,
          "metadata": {},
          "output_type": "execute_result"
        }
      ],
      "source": [
        "df_raw['smoking_status'].value_counts()"
      ]
    },
    {
      "cell_type": "code",
      "execution_count": null,
      "id": "09bcb1dc",
      "metadata": {
        "id": "09bcb1dc",
        "outputId": "ead7615e-d5ce-46c3-c39b-c9150239145d"
      },
      "outputs": [
        {
          "data": {
            "text/markdown": [
              "There are 1544 'Unknown' values for smoking_status variable, which is around 30.22% of all smoking_status observations "
            ],
            "text/plain": [
              "<IPython.core.display.Markdown object>"
            ]
          },
          "execution_count": 21,
          "metadata": {},
          "output_type": "execute_result"
        }
      ],
      "source": [
        "md(\"There are {} 'Unknown' values for smoking_status variable, which is around {}% of all smoking_status observations \".format(df_raw['smoking_status'].value_counts()['Unknown'], round((df_raw['smoking_status'].value_counts()['Unknown']/df_raw.shape[0])*100, 2)))"
      ]
    },
    {
      "cell_type": "markdown",
      "id": "04ce23c8",
      "metadata": {
        "id": "04ce23c8"
      },
      "source": [
        "How to handle missing data:\n",
        "- 1 'Other' value from gender variable can be deleted\n",
        "- 201 missing values from BMI variable can be predicted with IterativeImputer\n",
        "- 1544 'Unknown' values from smoking_status variables cannot be deleted, as it is around 30% of all data. It can be left as it is, so 'Unknown' is a separate category"
      ]
    },
    {
      "cell_type": "code",
      "execution_count": null,
      "id": "c2acff68",
      "metadata": {
        "id": "c2acff68"
      },
      "outputs": [],
      "source": [
        "df_raw = df_raw.drop(df_raw[df_raw['gender'] == 'Other'].index)"
      ]
    },
    {
      "cell_type": "markdown",
      "id": "b9063e20",
      "metadata": {
        "id": "b9063e20"
      },
      "source": [
        "## Removing outliers"
      ]
    },
    {
      "cell_type": "markdown",
      "id": "ba2a9b32",
      "metadata": {
        "id": "ba2a9b32"
      },
      "source": [
        "The only variables that can have outliers are: 'age', 'avg_glucose_level' and 'bmi'. We have to assess their distribution in order to pick a right way to remove outliers."
      ]
    },
    {
      "cell_type": "code",
      "execution_count": null,
      "id": "d4a45fb2",
      "metadata": {
        "id": "d4a45fb2",
        "outputId": "9e0cec15-bbc1-4437-beb1-d5e1cef4ef48"
      },
      "outputs": [
        {
          "data": {
            "image/png": "[encoded data removed]",
            "text/plain": [
              "<Figure size 1080x360 with 3 Axes>"
            ]
          },
          "metadata": {
            "needs_background": "light"
          },
          "output_type": "display_data"
        }
      ],
      "source": [
        "fig, axs = plt.subplots(1, 3, figsize=(15, 5))\n",
        "axs[0].hist(df_raw['age'], label = 'age', color = 'brown')\n",
        "axs[1].hist(df_raw['avg_glucose_level'], label = 'avg_glucose_level', color = 'green')\n",
        "axs[2].hist(df_raw['bmi'], label = 'bmi')\n",
        "fig.legend()\n",
        "plt.show()"
      ]
    },
    {
      "cell_type": "markdown",
      "id": "640743cb",
      "metadata": {
        "id": "640743cb"
      },
      "source": [
        "As we can see, only 'bmi' variable is close to having normal distribution. Outliers can be removed based on IQR.\n",
        "In 'age' variable, there are no outliers visible.\n",
        "'avg_glucose_level' possibly has outliers, but distribution is not normal, so the issue needs to be further explored."
      ]
    },
    {
      "cell_type": "code",
      "execution_count": null,
      "id": "d8f65bc8",
      "metadata": {
        "id": "d8f65bc8",
        "outputId": "78acaf0b-edf6-4020-aea8-fce47532d41d"
      },
      "outputs": [
        {
          "data": {
            "text/plain": [
              "count    5109.000000\n",
              "mean      106.140399\n",
              "std        45.285004\n",
              "min        55.120000\n",
              "25%        77.240000\n",
              "50%        91.880000\n",
              "75%       114.090000\n",
              "max       271.740000\n",
              "Name: avg_glucose_level, dtype: float64"
            ]
          },
          "execution_count": 24,
          "metadata": {},
          "output_type": "execute_result"
        }
      ],
      "source": [
        "df_raw['avg_glucose_level'].describe()"
      ]
    },
    {
      "cell_type": "code",
      "execution_count": null,
      "id": "836831b3",
      "metadata": {
        "id": "836831b3",
        "outputId": "227230e0-cf1a-421e-e9b2-e9f711d704e8"
      },
      "outputs": [
        {
          "data": {
            "text/plain": [
              "52"
            ]
          },
          "execution_count": 25,
          "metadata": {},
          "output_type": "execute_result"
        }
      ],
      "source": [
        "len(df_raw['avg_glucose_level'][df_raw['avg_glucose_level'] > df_raw['avg_glucose_level'].quantile(0.99)])"
      ]
    },
    {
      "cell_type": "markdown",
      "id": "521e7767",
      "metadata": {
        "id": "521e7767"
      },
      "source": [
        "Max value is twice 3rd quartile, however, the distribution is not normal and we can see that there is a substancial amount of data in the biggest 1%. Therefore we conclude that they are possibly not outliers, just this variable distribution is unique."
      ]
    },
    {
      "cell_type": "markdown",
      "id": "e18d58f6",
      "metadata": {
        "id": "e18d58f6"
      },
      "source": [
        "#### Removing outliers for BMI"
      ]
    },
    {
      "cell_type": "markdown",
      "id": "41b13046",
      "metadata": {
        "id": "41b13046"
      },
      "source": [
        "In order to properly recognize outliers now and impute missing values without outliers in the data, we will now create a copy of the dataframe, fill missing values with mean, then detect outliers and remove them on original data."
      ]
    },
    {
      "cell_type": "code",
      "execution_count": null,
      "id": "762e97d1",
      "metadata": {
        "id": "762e97d1"
      },
      "outputs": [],
      "source": [
        "df_out = df_raw.copy()\n",
        "df_out['bmi'].fillna(df_raw['bmi'].mean(),inplace=True)"
      ]
    },
    {
      "cell_type": "code",
      "execution_count": null,
      "id": "77e8c020",
      "metadata": {
        "id": "77e8c020"
      },
      "outputs": [],
      "source": [
        "def detect_outlier_iqr(dataframe, var_name):\n",
        "    \n",
        "    df = dataframe.copy()\n",
        "    \n",
        "    Q1=np.quantile(df[var_name], 0.25)\n",
        "    Q3=np.quantile(df[var_name], 0.75)\n",
        "    IQR=Q3 - Q1\n",
        "    \n",
        "    lower_bound=Q1 - 1.5 * IQR\n",
        "    upper_bound=Q3 + 1.5 * IQR\n",
        "    \n",
        "    left_outliers = df[var_name]<lower_bound\n",
        "    right_outliers = df[var_name]>upper_bound\n",
        "\n",
        "    df = df[(~left_outliers)&(~right_outliers)]\n",
        "\n",
        "    return (~left_outliers)&(~right_outliers)\n",
        "\n",
        "def plot_outlier_iqr(dataframe, var_name):\n",
        "    \n",
        "    df = dataframe.copy()\n",
        "        \n",
        "    df[var_name].hist(bins=50)\n",
        "    \n",
        "    Q1=np.quantile(df[var_name], 0.25)\n",
        "    Q3=np.quantile(df[var_name], 0.75)\n",
        "    IQR=Q3 - Q1\n",
        "    \n",
        "    lower_bound=Q1 - 1.5 * IQR\n",
        "    upper_bound=Q3 + 1.5 * IQR\n",
        "    \n",
        "    print(\"Lower bound:\", lower_bound)\n",
        "    print(\"Upper bound:\", upper_bound)    \n",
        "    \n",
        "    plt.axvline(x=lower_bound, color='red', linestyle='--')\n",
        "    plt.axvline(x=upper_bound, color='red', linestyle='--')\n",
        "    \n",
        "    plt.show()\n",
        "    \n",
        "    left_outliers = df[var_name]<lower_bound\n",
        "    right_outliers = df[var_name]>upper_bound\n",
        "    print(f\"Number of left-side outliers based on IQR in {var_name}:\", left_outliers.sum())\n",
        "    print(f\"Number of right-side outliers based on IQR in {var_name}:\", right_outliers.sum())\n",
        "    df = df[(~left_outliers)&(~right_outliers)]\n",
        "\n",
        "    return df"
      ]
    },
    {
      "cell_type": "code",
      "execution_count": null,
      "id": "46d4ee89",
      "metadata": {
        "id": "46d4ee89",
        "outputId": "662961c5-c616-4cff-da0b-0ab059aa150e"
      },
      "outputs": [
        {
          "name": "stdout",
          "output_type": "stream",
          "text": [
            "Lower bound: 10.300000000000006\n",
            "Upper bound: 46.29999999999999\n"
          ]
        },
        {
          "data": {
            "image/png": "[encoded data removed]",
            "text/plain": [
              "<Figure size 432x288 with 1 Axes>"
            ]
          },
          "metadata": {
            "needs_background": "light"
          },
          "output_type": "display_data"
        },
        {
          "name": "stdout",
          "output_type": "stream",
          "text": [
            "Number of left-side outliers based on IQR in bmi: 1\n",
            "Number of right-side outliers based on IQR in bmi: 125\n"
          ]
        },
        {
          "data": {
            "text/html": [
              "<div>\n",
              "<style scoped>\n",
              "    .dataframe tbody tr th:only-of-type {\n",
              "        vertical-align: middle;\n",
              "    }\n",
              "\n",
              "    .dataframe tbody tr th {\n",
              "        vertical-align: top;\n",
              "    }\n",
              "\n",
              "    .dataframe thead th {\n",
              "        text-align: right;\n",
              "    }\n",
              "</style>\n",
              "<table border=\"1\" class=\"dataframe\">\n",
              "  <thead>\n",
              "    <tr style=\"text-align: right;\">\n",
              "      <th></th>\n",
              "      <th>gender</th>\n",
              "      <th>age</th>\n",
              "      <th>hypertension</th>\n",
              "      <th>heart_disease</th>\n",
              "      <th>ever_married</th>\n",
              "      <th>work_type</th>\n",
              "      <th>Residence_type</th>\n",
              "      <th>avg_glucose_level</th>\n",
              "      <th>bmi</th>\n",
              "      <th>smoking_status</th>\n",
              "      <th>stroke</th>\n",
              "    </tr>\n",
              "    <tr>\n",
              "      <th>id</th>\n",
              "      <th></th>\n",
              "      <th></th>\n",
              "      <th></th>\n",
              "      <th></th>\n",
              "      <th></th>\n",
              "      <th></th>\n",
              "      <th></th>\n",
              "      <th></th>\n",
              "      <th></th>\n",
              "      <th></th>\n",
              "      <th></th>\n",
              "    </tr>\n",
              "  </thead>\n",
              "  <tbody>\n",
              "    <tr>\n",
              "      <th>9046</th>\n",
              "      <td>Male</td>\n",
              "      <td>67.0</td>\n",
              "      <td>0</td>\n",
              "      <td>1</td>\n",
              "      <td>Yes</td>\n",
              "      <td>Private</td>\n",
              "      <td>Urban</td>\n",
              "      <td>228.69</td>\n",
              "      <td>36.60000</td>\n",
              "      <td>formerly smoked</td>\n",
              "      <td>1</td>\n",
              "    </tr>\n",
              "    <tr>\n",
              "      <th>51676</th>\n",
              "      <td>Female</td>\n",
              "      <td>61.0</td>\n",
              "      <td>0</td>\n",
              "      <td>0</td>\n",
              "      <td>Yes</td>\n",
              "      <td>Self-employed</td>\n",
              "      <td>Rural</td>\n",
              "      <td>202.21</td>\n",
              "      <td>28.89456</td>\n",
              "      <td>never smoked</td>\n",
              "      <td>1</td>\n",
              "    </tr>\n",
              "    <tr>\n",
              "      <th>31112</th>\n",
              "      <td>Male</td>\n",
              "      <td>80.0</td>\n",
              "      <td>0</td>\n",
              "      <td>1</td>\n",
              "      <td>Yes</td>\n",
              "      <td>Private</td>\n",
              "      <td>Rural</td>\n",
              "      <td>105.92</td>\n",
              "      <td>32.50000</td>\n",
              "      <td>never smoked</td>\n",
              "      <td>1</td>\n",
              "    </tr>\n",
              "    <tr>\n",
              "      <th>60182</th>\n",
              "      <td>Female</td>\n",
              "      <td>49.0</td>\n",
              "      <td>0</td>\n",
              "      <td>0</td>\n",
              "      <td>Yes</td>\n",
              "      <td>Private</td>\n",
              "      <td>Urban</td>\n",
              "      <td>171.23</td>\n",
              "      <td>34.40000</td>\n",
              "      <td>smokes</td>\n",
              "      <td>1</td>\n",
              "    </tr>\n",
              "    <tr>\n",
              "      <th>1665</th>\n",
              "      <td>Female</td>\n",
              "      <td>79.0</td>\n",
              "      <td>1</td>\n",
              "      <td>0</td>\n",
              "      <td>Yes</td>\n",
              "      <td>Self-employed</td>\n",
              "      <td>Rural</td>\n",
              "      <td>174.12</td>\n",
              "      <td>24.00000</td>\n",
              "      <td>never smoked</td>\n",
              "      <td>1</td>\n",
              "    </tr>\n",
              "    <tr>\n",
              "      <th>...</th>\n",
              "      <td>...</td>\n",
              "      <td>...</td>\n",
              "      <td>...</td>\n",
              "      <td>...</td>\n",
              "      <td>...</td>\n",
              "      <td>...</td>\n",
              "      <td>...</td>\n",
              "      <td>...</td>\n",
              "      <td>...</td>\n",
              "      <td>...</td>\n",
              "      <td>...</td>\n",
              "    </tr>\n",
              "    <tr>\n",
              "      <th>18234</th>\n",
              "      <td>Female</td>\n",
              "      <td>80.0</td>\n",
              "      <td>1</td>\n",
              "      <td>0</td>\n",
              "      <td>Yes</td>\n",
              "      <td>Private</td>\n",
              "      <td>Urban</td>\n",
              "      <td>83.75</td>\n",
              "      <td>28.89456</td>\n",
              "      <td>never smoked</td>\n",
              "      <td>0</td>\n",
              "    </tr>\n",
              "    <tr>\n",
              "      <th>44873</th>\n",
              "      <td>Female</td>\n",
              "      <td>81.0</td>\n",
              "      <td>0</td>\n",
              "      <td>0</td>\n",
              "      <td>Yes</td>\n",
              "      <td>Self-employed</td>\n",
              "      <td>Urban</td>\n",
              "      <td>125.20</td>\n",
              "      <td>40.00000</td>\n",
              "      <td>never smoked</td>\n",
              "      <td>0</td>\n",
              "    </tr>\n",
              "    <tr>\n",
              "      <th>19723</th>\n",
              "      <td>Female</td>\n",
              "      <td>35.0</td>\n",
              "      <td>0</td>\n",
              "      <td>0</td>\n",
              "      <td>Yes</td>\n",
              "      <td>Self-employed</td>\n",
              "      <td>Rural</td>\n",
              "      <td>82.99</td>\n",
              "      <td>30.60000</td>\n",
              "      <td>never smoked</td>\n",
              "      <td>0</td>\n",
              "    </tr>\n",
              "    <tr>\n",
              "      <th>37544</th>\n",
              "      <td>Male</td>\n",
              "      <td>51.0</td>\n",
              "      <td>0</td>\n",
              "      <td>0</td>\n",
              "      <td>Yes</td>\n",
              "      <td>Private</td>\n",
              "      <td>Rural</td>\n",
              "      <td>166.29</td>\n",
              "      <td>25.60000</td>\n",
              "      <td>formerly smoked</td>\n",
              "      <td>0</td>\n",
              "    </tr>\n",
              "    <tr>\n",
              "      <th>44679</th>\n",
              "      <td>Female</td>\n",
              "      <td>44.0</td>\n",
              "      <td>0</td>\n",
              "      <td>0</td>\n",
              "      <td>Yes</td>\n",
              "      <td>Govt_job</td>\n",
              "      <td>Urban</td>\n",
              "      <td>85.28</td>\n",
              "      <td>26.20000</td>\n",
              "      <td>Unknown</td>\n",
              "      <td>0</td>\n",
              "    </tr>\n",
              "  </tbody>\n",
              "</table>\n",
              "<p>4983 rows × 11 columns</p>\n",
              "</div>"
            ],
            "text/plain": [
              "       gender   age  hypertension  heart_disease ever_married      work_type  \\\n",
              "id                                                                             \n",
              "9046     Male  67.0             0              1          Yes        Private   \n",
              "51676  Female  61.0             0              0          Yes  Self-employed   \n",
              "31112    Male  80.0             0              1          Yes        Private   \n",
              "60182  Female  49.0             0              0          Yes        Private   \n",
              "1665   Female  79.0             1              0          Yes  Self-employed   \n",
              "...       ...   ...           ...            ...          ...            ...   \n",
              "18234  Female  80.0             1              0          Yes        Private   \n",
              "44873  Female  81.0             0              0          Yes  Self-employed   \n",
              "19723  Female  35.0             0              0          Yes  Self-employed   \n",
              "37544    Male  51.0             0              0          Yes        Private   \n",
              "44679  Female  44.0             0              0          Yes       Govt_job   \n",
              "\n",
              "      Residence_type  avg_glucose_level       bmi   smoking_status  stroke  \n",
              "id                                                                          \n",
              "9046           Urban             228.69  36.60000  formerly smoked       1  \n",
              "51676          Rural             202.21  28.89456     never smoked       1  \n",
              "31112          Rural             105.92  32.50000     never smoked       1  \n",
              "60182          Urban             171.23  34.40000           smokes       1  \n",
              "1665           Rural             174.12  24.00000     never smoked       1  \n",
              "...              ...                ...       ...              ...     ...  \n",
              "18234          Urban              83.75  28.89456     never smoked       0  \n",
              "44873          Urban             125.20  40.00000     never smoked       0  \n",
              "19723          Rural              82.99  30.60000     never smoked       0  \n",
              "37544          Rural             166.29  25.60000  formerly smoked       0  \n",
              "44679          Urban              85.28  26.20000          Unknown       0  \n",
              "\n",
              "[4983 rows x 11 columns]"
            ]
          },
          "execution_count": 28,
          "metadata": {},
          "output_type": "execute_result"
        }
      ],
      "source": [
        "plot_outlier_iqr(df_out, 'bmi')"
      ]
    },
    {
      "cell_type": "markdown",
      "id": "92f5976b",
      "metadata": {
        "id": "92f5976b"
      },
      "source": [
        "Now we can remove outliers from original data"
      ]
    },
    {
      "cell_type": "code",
      "execution_count": null,
      "id": "653891d9",
      "metadata": {
        "id": "653891d9",
        "outputId": "36743784-2693-4652-f22f-db922fc6d102"
      },
      "outputs": [
        {
          "data": {
            "text/html": [
              "<div>\n",
              "<style scoped>\n",
              "    .dataframe tbody tr th:only-of-type {\n",
              "        vertical-align: middle;\n",
              "    }\n",
              "\n",
              "    .dataframe tbody tr th {\n",
              "        vertical-align: top;\n",
              "    }\n",
              "\n",
              "    .dataframe thead th {\n",
              "        text-align: right;\n",
              "    }\n",
              "</style>\n",
              "<table border=\"1\" class=\"dataframe\">\n",
              "  <thead>\n",
              "    <tr style=\"text-align: right;\">\n",
              "      <th></th>\n",
              "      <th>gender</th>\n",
              "      <th>age</th>\n",
              "      <th>hypertension</th>\n",
              "      <th>heart_disease</th>\n",
              "      <th>ever_married</th>\n",
              "      <th>work_type</th>\n",
              "      <th>Residence_type</th>\n",
              "      <th>avg_glucose_level</th>\n",
              "      <th>bmi</th>\n",
              "      <th>smoking_status</th>\n",
              "      <th>stroke</th>\n",
              "    </tr>\n",
              "    <tr>\n",
              "      <th>id</th>\n",
              "      <th></th>\n",
              "      <th></th>\n",
              "      <th></th>\n",
              "      <th></th>\n",
              "      <th></th>\n",
              "      <th></th>\n",
              "      <th></th>\n",
              "      <th></th>\n",
              "      <th></th>\n",
              "      <th></th>\n",
              "      <th></th>\n",
              "    </tr>\n",
              "  </thead>\n",
              "  <tbody>\n",
              "    <tr>\n",
              "      <th>9046</th>\n",
              "      <td>Male</td>\n",
              "      <td>67.0</td>\n",
              "      <td>0</td>\n",
              "      <td>1</td>\n",
              "      <td>Yes</td>\n",
              "      <td>Private</td>\n",
              "      <td>Urban</td>\n",
              "      <td>228.69</td>\n",
              "      <td>36.6</td>\n",
              "      <td>formerly smoked</td>\n",
              "      <td>1</td>\n",
              "    </tr>\n",
              "    <tr>\n",
              "      <th>51676</th>\n",
              "      <td>Female</td>\n",
              "      <td>61.0</td>\n",
              "      <td>0</td>\n",
              "      <td>0</td>\n",
              "      <td>Yes</td>\n",
              "      <td>Self-employed</td>\n",
              "      <td>Rural</td>\n",
              "      <td>202.21</td>\n",
              "      <td>NaN</td>\n",
              "      <td>never smoked</td>\n",
              "      <td>1</td>\n",
              "    </tr>\n",
              "    <tr>\n",
              "      <th>31112</th>\n",
              "      <td>Male</td>\n",
              "      <td>80.0</td>\n",
              "      <td>0</td>\n",
              "      <td>1</td>\n",
              "      <td>Yes</td>\n",
              "      <td>Private</td>\n",
              "      <td>Rural</td>\n",
              "      <td>105.92</td>\n",
              "      <td>32.5</td>\n",
              "      <td>never smoked</td>\n",
              "      <td>1</td>\n",
              "    </tr>\n",
              "    <tr>\n",
              "      <th>60182</th>\n",
              "      <td>Female</td>\n",
              "      <td>49.0</td>\n",
              "      <td>0</td>\n",
              "      <td>0</td>\n",
              "      <td>Yes</td>\n",
              "      <td>Private</td>\n",
              "      <td>Urban</td>\n",
              "      <td>171.23</td>\n",
              "      <td>34.4</td>\n",
              "      <td>smokes</td>\n",
              "      <td>1</td>\n",
              "    </tr>\n",
              "    <tr>\n",
              "      <th>1665</th>\n",
              "      <td>Female</td>\n",
              "      <td>79.0</td>\n",
              "      <td>1</td>\n",
              "      <td>0</td>\n",
              "      <td>Yes</td>\n",
              "      <td>Self-employed</td>\n",
              "      <td>Rural</td>\n",
              "      <td>174.12</td>\n",
              "      <td>24.0</td>\n",
              "      <td>never smoked</td>\n",
              "      <td>1</td>\n",
              "    </tr>\n",
              "    <tr>\n",
              "      <th>...</th>\n",
              "      <td>...</td>\n",
              "      <td>...</td>\n",
              "      <td>...</td>\n",
              "      <td>...</td>\n",
              "      <td>...</td>\n",
              "      <td>...</td>\n",
              "      <td>...</td>\n",
              "      <td>...</td>\n",
              "      <td>...</td>\n",
              "      <td>...</td>\n",
              "      <td>...</td>\n",
              "    </tr>\n",
              "    <tr>\n",
              "      <th>18234</th>\n",
              "      <td>Female</td>\n",
              "      <td>80.0</td>\n",
              "      <td>1</td>\n",
              "      <td>0</td>\n",
              "      <td>Yes</td>\n",
              "      <td>Private</td>\n",
              "      <td>Urban</td>\n",
              "      <td>83.75</td>\n",
              "      <td>NaN</td>\n",
              "      <td>never smoked</td>\n",
              "      <td>0</td>\n",
              "    </tr>\n",
              "    <tr>\n",
              "      <th>44873</th>\n",
              "      <td>Female</td>\n",
              "      <td>81.0</td>\n",
              "      <td>0</td>\n",
              "      <td>0</td>\n",
              "      <td>Yes</td>\n",
              "      <td>Self-employed</td>\n",
              "      <td>Urban</td>\n",
              "      <td>125.20</td>\n",
              "      <td>40.0</td>\n",
              "      <td>never smoked</td>\n",
              "      <td>0</td>\n",
              "    </tr>\n",
              "    <tr>\n",
              "      <th>19723</th>\n",
              "      <td>Female</td>\n",
              "      <td>35.0</td>\n",
              "      <td>0</td>\n",
              "      <td>0</td>\n",
              "      <td>Yes</td>\n",
              "      <td>Self-employed</td>\n",
              "      <td>Rural</td>\n",
              "      <td>82.99</td>\n",
              "      <td>30.6</td>\n",
              "      <td>never smoked</td>\n",
              "      <td>0</td>\n",
              "    </tr>\n",
              "    <tr>\n",
              "      <th>37544</th>\n",
              "      <td>Male</td>\n",
              "      <td>51.0</td>\n",
              "      <td>0</td>\n",
              "      <td>0</td>\n",
              "      <td>Yes</td>\n",
              "      <td>Private</td>\n",
              "      <td>Rural</td>\n",
              "      <td>166.29</td>\n",
              "      <td>25.6</td>\n",
              "      <td>formerly smoked</td>\n",
              "      <td>0</td>\n",
              "    </tr>\n",
              "    <tr>\n",
              "      <th>44679</th>\n",
              "      <td>Female</td>\n",
              "      <td>44.0</td>\n",
              "      <td>0</td>\n",
              "      <td>0</td>\n",
              "      <td>Yes</td>\n",
              "      <td>Govt_job</td>\n",
              "      <td>Urban</td>\n",
              "      <td>85.28</td>\n",
              "      <td>26.2</td>\n",
              "      <td>Unknown</td>\n",
              "      <td>0</td>\n",
              "    </tr>\n",
              "  </tbody>\n",
              "</table>\n",
              "<p>4983 rows × 11 columns</p>\n",
              "</div>"
            ],
            "text/plain": [
              "       gender   age  hypertension  heart_disease ever_married      work_type  \\\n",
              "id                                                                             \n",
              "9046     Male  67.0             0              1          Yes        Private   \n",
              "51676  Female  61.0             0              0          Yes  Self-employed   \n",
              "31112    Male  80.0             0              1          Yes        Private   \n",
              "60182  Female  49.0             0              0          Yes        Private   \n",
              "1665   Female  79.0             1              0          Yes  Self-employed   \n",
              "...       ...   ...           ...            ...          ...            ...   \n",
              "18234  Female  80.0             1              0          Yes        Private   \n",
              "44873  Female  81.0             0              0          Yes  Self-employed   \n",
              "19723  Female  35.0             0              0          Yes  Self-employed   \n",
              "37544    Male  51.0             0              0          Yes        Private   \n",
              "44679  Female  44.0             0              0          Yes       Govt_job   \n",
              "\n",
              "      Residence_type  avg_glucose_level   bmi   smoking_status  stroke  \n",
              "id                                                                      \n",
              "9046           Urban             228.69  36.6  formerly smoked       1  \n",
              "51676          Rural             202.21   NaN     never smoked       1  \n",
              "31112          Rural             105.92  32.5     never smoked       1  \n",
              "60182          Urban             171.23  34.4           smokes       1  \n",
              "1665           Rural             174.12  24.0     never smoked       1  \n",
              "...              ...                ...   ...              ...     ...  \n",
              "18234          Urban              83.75   NaN     never smoked       0  \n",
              "44873          Urban             125.20  40.0     never smoked       0  \n",
              "19723          Rural              82.99  30.6     never smoked       0  \n",
              "37544          Rural             166.29  25.6  formerly smoked       0  \n",
              "44679          Urban              85.28  26.2          Unknown       0  \n",
              "\n",
              "[4983 rows x 11 columns]"
            ]
          },
          "execution_count": 29,
          "metadata": {},
          "output_type": "execute_result"
        }
      ],
      "source": [
        "df_no_out = df_raw[detect_outlier_iqr(df_out, 'bmi')]\n",
        "df_no_out"
      ]
    },
    {
      "cell_type": "markdown",
      "id": "482ed3d5",
      "metadata": {
        "id": "482ed3d5"
      },
      "source": [
        "Outliers in BMI were removed and we have 4983 observations"
      ]
    },
    {
      "cell_type": "markdown",
      "id": "aa6160aa",
      "metadata": {
        "id": "aa6160aa"
      },
      "source": [
        "## Preprocessing pipeline"
      ]
    },
    {
      "cell_type": "markdown",
      "id": "914aa29f",
      "metadata": {
        "id": "914aa29f"
      },
      "source": [
        "We picked the best preprocessing model in another notebook already, so here we implement only one"
      ]
    },
    {
      "cell_type": "code",
      "execution_count": null,
      "id": "be6a4042",
      "metadata": {
        "id": "be6a4042",
        "outputId": "185b5ea3-7e5a-4799-e786-88b7cb9bdac0"
      },
      "outputs": [
        {
          "data": {
            "text/html": [
              "<div>\n",
              "<style scoped>\n",
              "    .dataframe tbody tr th:only-of-type {\n",
              "        vertical-align: middle;\n",
              "    }\n",
              "\n",
              "    .dataframe tbody tr th {\n",
              "        vertical-align: top;\n",
              "    }\n",
              "\n",
              "    .dataframe thead th {\n",
              "        text-align: right;\n",
              "    }\n",
              "</style>\n",
              "<table border=\"1\" class=\"dataframe\">\n",
              "  <thead>\n",
              "    <tr style=\"text-align: right;\">\n",
              "      <th></th>\n",
              "      <th>gender</th>\n",
              "      <th>age</th>\n",
              "      <th>hypertension</th>\n",
              "      <th>heart_disease</th>\n",
              "      <th>ever_married</th>\n",
              "      <th>work_type</th>\n",
              "      <th>Residence_type</th>\n",
              "      <th>avg_glucose_level</th>\n",
              "      <th>bmi</th>\n",
              "      <th>smoking_status</th>\n",
              "      <th>stroke</th>\n",
              "    </tr>\n",
              "    <tr>\n",
              "      <th>id</th>\n",
              "      <th></th>\n",
              "      <th></th>\n",
              "      <th></th>\n",
              "      <th></th>\n",
              "      <th></th>\n",
              "      <th></th>\n",
              "      <th></th>\n",
              "      <th></th>\n",
              "      <th></th>\n",
              "      <th></th>\n",
              "      <th></th>\n",
              "    </tr>\n",
              "  </thead>\n",
              "  <tbody>\n",
              "    <tr>\n",
              "      <th>9046</th>\n",
              "      <td>Male</td>\n",
              "      <td>67.0</td>\n",
              "      <td>0</td>\n",
              "      <td>1</td>\n",
              "      <td>Yes</td>\n",
              "      <td>Private</td>\n",
              "      <td>Urban</td>\n",
              "      <td>228.69</td>\n",
              "      <td>36.6</td>\n",
              "      <td>formerly smoked</td>\n",
              "      <td>1</td>\n",
              "    </tr>\n",
              "    <tr>\n",
              "      <th>51676</th>\n",
              "      <td>Female</td>\n",
              "      <td>61.0</td>\n",
              "      <td>0</td>\n",
              "      <td>0</td>\n",
              "      <td>Yes</td>\n",
              "      <td>Self-employed</td>\n",
              "      <td>Rural</td>\n",
              "      <td>202.21</td>\n",
              "      <td>NaN</td>\n",
              "      <td>never smoked</td>\n",
              "      <td>1</td>\n",
              "    </tr>\n",
              "    <tr>\n",
              "      <th>31112</th>\n",
              "      <td>Male</td>\n",
              "      <td>80.0</td>\n",
              "      <td>0</td>\n",
              "      <td>1</td>\n",
              "      <td>Yes</td>\n",
              "      <td>Private</td>\n",
              "      <td>Rural</td>\n",
              "      <td>105.92</td>\n",
              "      <td>32.5</td>\n",
              "      <td>never smoked</td>\n",
              "      <td>1</td>\n",
              "    </tr>\n",
              "    <tr>\n",
              "      <th>60182</th>\n",
              "      <td>Female</td>\n",
              "      <td>49.0</td>\n",
              "      <td>0</td>\n",
              "      <td>0</td>\n",
              "      <td>Yes</td>\n",
              "      <td>Private</td>\n",
              "      <td>Urban</td>\n",
              "      <td>171.23</td>\n",
              "      <td>34.4</td>\n",
              "      <td>smokes</td>\n",
              "      <td>1</td>\n",
              "    </tr>\n",
              "    <tr>\n",
              "      <th>1665</th>\n",
              "      <td>Female</td>\n",
              "      <td>79.0</td>\n",
              "      <td>1</td>\n",
              "      <td>0</td>\n",
              "      <td>Yes</td>\n",
              "      <td>Self-employed</td>\n",
              "      <td>Rural</td>\n",
              "      <td>174.12</td>\n",
              "      <td>24.0</td>\n",
              "      <td>never smoked</td>\n",
              "      <td>1</td>\n",
              "    </tr>\n",
              "    <tr>\n",
              "      <th>...</th>\n",
              "      <td>...</td>\n",
              "      <td>...</td>\n",
              "      <td>...</td>\n",
              "      <td>...</td>\n",
              "      <td>...</td>\n",
              "      <td>...</td>\n",
              "      <td>...</td>\n",
              "      <td>...</td>\n",
              "      <td>...</td>\n",
              "      <td>...</td>\n",
              "      <td>...</td>\n",
              "    </tr>\n",
              "    <tr>\n",
              "      <th>18234</th>\n",
              "      <td>Female</td>\n",
              "      <td>80.0</td>\n",
              "      <td>1</td>\n",
              "      <td>0</td>\n",
              "      <td>Yes</td>\n",
              "      <td>Private</td>\n",
              "      <td>Urban</td>\n",
              "      <td>83.75</td>\n",
              "      <td>NaN</td>\n",
              "      <td>never smoked</td>\n",
              "      <td>0</td>\n",
              "    </tr>\n",
              "    <tr>\n",
              "      <th>44873</th>\n",
              "      <td>Female</td>\n",
              "      <td>81.0</td>\n",
              "      <td>0</td>\n",
              "      <td>0</td>\n",
              "      <td>Yes</td>\n",
              "      <td>Self-employed</td>\n",
              "      <td>Urban</td>\n",
              "      <td>125.20</td>\n",
              "      <td>40.0</td>\n",
              "      <td>never smoked</td>\n",
              "      <td>0</td>\n",
              "    </tr>\n",
              "    <tr>\n",
              "      <th>19723</th>\n",
              "      <td>Female</td>\n",
              "      <td>35.0</td>\n",
              "      <td>0</td>\n",
              "      <td>0</td>\n",
              "      <td>Yes</td>\n",
              "      <td>Self-employed</td>\n",
              "      <td>Rural</td>\n",
              "      <td>82.99</td>\n",
              "      <td>30.6</td>\n",
              "      <td>never smoked</td>\n",
              "      <td>0</td>\n",
              "    </tr>\n",
              "    <tr>\n",
              "      <th>37544</th>\n",
              "      <td>Male</td>\n",
              "      <td>51.0</td>\n",
              "      <td>0</td>\n",
              "      <td>0</td>\n",
              "      <td>Yes</td>\n",
              "      <td>Private</td>\n",
              "      <td>Rural</td>\n",
              "      <td>166.29</td>\n",
              "      <td>25.6</td>\n",
              "      <td>formerly smoked</td>\n",
              "      <td>0</td>\n",
              "    </tr>\n",
              "    <tr>\n",
              "      <th>44679</th>\n",
              "      <td>Female</td>\n",
              "      <td>44.0</td>\n",
              "      <td>0</td>\n",
              "      <td>0</td>\n",
              "      <td>Yes</td>\n",
              "      <td>Govt_job</td>\n",
              "      <td>Urban</td>\n",
              "      <td>85.28</td>\n",
              "      <td>26.2</td>\n",
              "      <td>Unknown</td>\n",
              "      <td>0</td>\n",
              "    </tr>\n",
              "  </tbody>\n",
              "</table>\n",
              "<p>4983 rows × 11 columns</p>\n",
              "</div>"
            ],
            "text/plain": [
              "       gender   age  hypertension  heart_disease ever_married      work_type  \\\n",
              "id                                                                             \n",
              "9046     Male  67.0             0              1          Yes        Private   \n",
              "51676  Female  61.0             0              0          Yes  Self-employed   \n",
              "31112    Male  80.0             0              1          Yes        Private   \n",
              "60182  Female  49.0             0              0          Yes        Private   \n",
              "1665   Female  79.0             1              0          Yes  Self-employed   \n",
              "...       ...   ...           ...            ...          ...            ...   \n",
              "18234  Female  80.0             1              0          Yes        Private   \n",
              "44873  Female  81.0             0              0          Yes  Self-employed   \n",
              "19723  Female  35.0             0              0          Yes  Self-employed   \n",
              "37544    Male  51.0             0              0          Yes        Private   \n",
              "44679  Female  44.0             0              0          Yes       Govt_job   \n",
              "\n",
              "      Residence_type  avg_glucose_level   bmi   smoking_status  stroke  \n",
              "id                                                                      \n",
              "9046           Urban             228.69  36.6  formerly smoked       1  \n",
              "51676          Rural             202.21   NaN     never smoked       1  \n",
              "31112          Rural             105.92  32.5     never smoked       1  \n",
              "60182          Urban             171.23  34.4           smokes       1  \n",
              "1665           Rural             174.12  24.0     never smoked       1  \n",
              "...              ...                ...   ...              ...     ...  \n",
              "18234          Urban              83.75   NaN     never smoked       0  \n",
              "44873          Urban             125.20  40.0     never smoked       0  \n",
              "19723          Rural              82.99  30.6     never smoked       0  \n",
              "37544          Rural             166.29  25.6  formerly smoked       0  \n",
              "44679          Urban              85.28  26.2          Unknown       0  \n",
              "\n",
              "[4983 rows x 11 columns]"
            ]
          },
          "execution_count": 30,
          "metadata": {},
          "output_type": "execute_result"
        }
      ],
      "source": [
        "df_no_out"
      ]
    },
    {
      "cell_type": "markdown",
      "id": "27338358",
      "metadata": {
        "id": "27338358"
      },
      "source": [
        "Now we will use a preprocessing pipeline that will via One-Hot-Encoder transform nominal values to binary and impute missing BMI data with IterativeImputer. Smoking status, due to its ordinal nature, we will use OrdinalEncoder. Numeric variables (age, avg_glucose_level and bmi will be scaled with MinMaxScaler"
      ]
    },
    {
      "cell_type": "code",
      "execution_count": null,
      "id": "9313bd36",
      "metadata": {
        "id": "9313bd36",
        "outputId": "e26c95df-993c-4b21-cb6d-ec04a9c9b190"
      },
      "outputs": [
        {
          "data": {
            "text/plain": [
              "ColumnTransformer(remainder='passthrough',\n",
              "                  transformers=[('imputer',\n",
              "                                 Pipeline(steps=[('imputer_num',\n",
              "                                                  IterativeImputer())]),\n",
              "                                 ['age', 'hypertension', 'heart_disease',\n",
              "                                  'avg_glucose_level', 'bmi']),\n",
              "                                ('ordinal',\n",
              "                                 Pipeline(steps=[('ordinal',\n",
              "                                                  OrdinalEncoder(categories=[['never '\n",
              "                                                                              'smoked',\n",
              "                                                                              'formerly '\n",
              "                                                                              'smoked',\n",
              "                                                                              'smokes',\n",
              "                                                                              'Unknown']]))]),\n",
              "                                 ['smoking_status']),\n",
              "                                ('categoricals',\n",
              "                                 Pipeline(steps=[('onehot',\n",
              "                                                  OneHotEncoder(drop='first'))]),\n",
              "                                 ['gender', 'ever_married', 'Residence_type',\n",
              "                                  'work_type'])])"
            ]
          },
          "execution_count": 31,
          "metadata": {},
          "output_type": "execute_result"
        }
      ],
      "source": [
        "train, test = train_test_split(df_no_out, test_size=0.3, random_state=42)\n",
        "categorical_features = ['gender', 'ever_married', 'Residence_type', 'work_type']\n",
        "categorical_transformer = Pipeline(\n",
        "    [\n",
        "        ('onehot', OneHotEncoder(handle_unknown = 'error', drop = 'first'))\n",
        "    ]\n",
        ")\n",
        "\n",
        "imputer_features = ['age', 'hypertension', 'heart_disease', 'avg_glucose_level', 'bmi'] #Here we impute missing values for bmi\n",
        "imputer_transformer = Pipeline(\n",
        "    [\n",
        "        ('imputer_num', IterativeImputer()),\n",
        "    ]\n",
        ")\n",
        "\n",
        "ordinal_transformer = Pipeline(\n",
        "    [\n",
        "        ('ordinal', OrdinalEncoder(categories=[['never smoked', 'formerly smoked', 'smokes', 'Unknown']])),\n",
        "    ]\n",
        ")\n",
        "preprocessor = ColumnTransformer(\n",
        "    [\n",
        "        ('imputer', imputer_transformer, imputer_features),\n",
        "        ('ordinal', ordinal_transformer, ['smoking_status']),\n",
        "        ('categoricals', categorical_transformer, categorical_features)\n",
        "    ],\n",
        "    remainder = 'passthrough'\n",
        ")\n",
        "\n",
        "preprocessor"
      ]
    },
    {
      "cell_type": "markdown",
      "id": "ab39012d",
      "metadata": {
        "id": "ab39012d"
      },
      "source": [
        "Now we transform NumPy array into DataFrame."
      ]
    },
    {
      "cell_type": "code",
      "execution_count": null,
      "id": "defedda8",
      "metadata": {
        "id": "defedda8",
        "outputId": "25b0d519-8f80-4645-faa9-b9e932f34e5d"
      },
      "outputs": [
        {
          "data": {
            "text/html": [
              "<div>\n",
              "<style scoped>\n",
              "    .dataframe tbody tr th:only-of-type {\n",
              "        vertical-align: middle;\n",
              "    }\n",
              "\n",
              "    .dataframe tbody tr th {\n",
              "        vertical-align: top;\n",
              "    }\n",
              "\n",
              "    .dataframe thead th {\n",
              "        text-align: right;\n",
              "    }\n",
              "</style>\n",
              "<table border=\"1\" class=\"dataframe\">\n",
              "  <thead>\n",
              "    <tr style=\"text-align: right;\">\n",
              "      <th></th>\n",
              "      <th>age</th>\n",
              "      <th>hypertension</th>\n",
              "      <th>heart_disease</th>\n",
              "      <th>avg_glucose_level</th>\n",
              "      <th>bmi</th>\n",
              "      <th>smoking_status</th>\n",
              "      <th>gender_Male</th>\n",
              "      <th>ever_married_Yes</th>\n",
              "      <th>Residence_type_Urban</th>\n",
              "      <th>work_type_Never_worked</th>\n",
              "      <th>work_type_Private</th>\n",
              "      <th>work_type_Self-employed</th>\n",
              "      <th>work_type_children</th>\n",
              "      <th>stroke</th>\n",
              "    </tr>\n",
              "  </thead>\n",
              "  <tbody>\n",
              "    <tr>\n",
              "      <th>0</th>\n",
              "      <td>31.0</td>\n",
              "      <td>0.0</td>\n",
              "      <td>0.0</td>\n",
              "      <td>104.55</td>\n",
              "      <td>26.40000</td>\n",
              "      <td>0.0</td>\n",
              "      <td>0.0</td>\n",
              "      <td>1.0</td>\n",
              "      <td>0.0</td>\n",
              "      <td>0.0</td>\n",
              "      <td>0.0</td>\n",
              "      <td>0.0</td>\n",
              "      <td>0.0</td>\n",
              "      <td>0.0</td>\n",
              "    </tr>\n",
              "    <tr>\n",
              "      <th>1</th>\n",
              "      <td>80.0</td>\n",
              "      <td>0.0</td>\n",
              "      <td>0.0</td>\n",
              "      <td>84.86</td>\n",
              "      <td>31.85873</td>\n",
              "      <td>3.0</td>\n",
              "      <td>0.0</td>\n",
              "      <td>1.0</td>\n",
              "      <td>1.0</td>\n",
              "      <td>0.0</td>\n",
              "      <td>0.0</td>\n",
              "      <td>0.0</td>\n",
              "      <td>0.0</td>\n",
              "      <td>0.0</td>\n",
              "    </tr>\n",
              "    <tr>\n",
              "      <th>2</th>\n",
              "      <td>27.0</td>\n",
              "      <td>0.0</td>\n",
              "      <td>0.0</td>\n",
              "      <td>226.75</td>\n",
              "      <td>28.90000</td>\n",
              "      <td>3.0</td>\n",
              "      <td>0.0</td>\n",
              "      <td>0.0</td>\n",
              "      <td>0.0</td>\n",
              "      <td>0.0</td>\n",
              "      <td>1.0</td>\n",
              "      <td>0.0</td>\n",
              "      <td>0.0</td>\n",
              "      <td>0.0</td>\n",
              "    </tr>\n",
              "    <tr>\n",
              "      <th>3</th>\n",
              "      <td>50.0</td>\n",
              "      <td>0.0</td>\n",
              "      <td>0.0</td>\n",
              "      <td>95.25</td>\n",
              "      <td>24.30000</td>\n",
              "      <td>0.0</td>\n",
              "      <td>0.0</td>\n",
              "      <td>1.0</td>\n",
              "      <td>0.0</td>\n",
              "      <td>0.0</td>\n",
              "      <td>0.0</td>\n",
              "      <td>1.0</td>\n",
              "      <td>0.0</td>\n",
              "      <td>0.0</td>\n",
              "    </tr>\n",
              "    <tr>\n",
              "      <th>4</th>\n",
              "      <td>25.0</td>\n",
              "      <td>0.0</td>\n",
              "      <td>0.0</td>\n",
              "      <td>103.15</td>\n",
              "      <td>21.00000</td>\n",
              "      <td>2.0</td>\n",
              "      <td>0.0</td>\n",
              "      <td>0.0</td>\n",
              "      <td>0.0</td>\n",
              "      <td>0.0</td>\n",
              "      <td>0.0</td>\n",
              "      <td>0.0</td>\n",
              "      <td>0.0</td>\n",
              "      <td>0.0</td>\n",
              "    </tr>\n",
              "    <tr>\n",
              "      <th>...</th>\n",
              "      <td>...</td>\n",
              "      <td>...</td>\n",
              "      <td>...</td>\n",
              "      <td>...</td>\n",
              "      <td>...</td>\n",
              "      <td>...</td>\n",
              "      <td>...</td>\n",
              "      <td>...</td>\n",
              "      <td>...</td>\n",
              "      <td>...</td>\n",
              "      <td>...</td>\n",
              "      <td>...</td>\n",
              "      <td>...</td>\n",
              "      <td>...</td>\n",
              "    </tr>\n",
              "    <tr>\n",
              "      <th>3483</th>\n",
              "      <td>8.0</td>\n",
              "      <td>0.0</td>\n",
              "      <td>0.0</td>\n",
              "      <td>78.48</td>\n",
              "      <td>16.10000</td>\n",
              "      <td>3.0</td>\n",
              "      <td>1.0</td>\n",
              "      <td>0.0</td>\n",
              "      <td>1.0</td>\n",
              "      <td>0.0</td>\n",
              "      <td>0.0</td>\n",
              "      <td>0.0</td>\n",
              "      <td>1.0</td>\n",
              "      <td>0.0</td>\n",
              "    </tr>\n",
              "    <tr>\n",
              "      <th>3484</th>\n",
              "      <td>53.0</td>\n",
              "      <td>0.0</td>\n",
              "      <td>0.0</td>\n",
              "      <td>96.88</td>\n",
              "      <td>31.40000</td>\n",
              "      <td>3.0</td>\n",
              "      <td>0.0</td>\n",
              "      <td>1.0</td>\n",
              "      <td>0.0</td>\n",
              "      <td>0.0</td>\n",
              "      <td>0.0</td>\n",
              "      <td>1.0</td>\n",
              "      <td>0.0</td>\n",
              "      <td>0.0</td>\n",
              "    </tr>\n",
              "    <tr>\n",
              "      <th>3485</th>\n",
              "      <td>33.0</td>\n",
              "      <td>0.0</td>\n",
              "      <td>0.0</td>\n",
              "      <td>70.59</td>\n",
              "      <td>20.20000</td>\n",
              "      <td>3.0</td>\n",
              "      <td>0.0</td>\n",
              "      <td>1.0</td>\n",
              "      <td>1.0</td>\n",
              "      <td>0.0</td>\n",
              "      <td>0.0</td>\n",
              "      <td>1.0</td>\n",
              "      <td>0.0</td>\n",
              "      <td>0.0</td>\n",
              "    </tr>\n",
              "    <tr>\n",
              "      <th>3486</th>\n",
              "      <td>66.0</td>\n",
              "      <td>0.0</td>\n",
              "      <td>0.0</td>\n",
              "      <td>72.53</td>\n",
              "      <td>25.30000</td>\n",
              "      <td>2.0</td>\n",
              "      <td>0.0</td>\n",
              "      <td>1.0</td>\n",
              "      <td>1.0</td>\n",
              "      <td>0.0</td>\n",
              "      <td>0.0</td>\n",
              "      <td>0.0</td>\n",
              "      <td>0.0</td>\n",
              "      <td>0.0</td>\n",
              "    </tr>\n",
              "    <tr>\n",
              "      <th>3487</th>\n",
              "      <td>59.0</td>\n",
              "      <td>0.0</td>\n",
              "      <td>0.0</td>\n",
              "      <td>237.15</td>\n",
              "      <td>27.70000</td>\n",
              "      <td>0.0</td>\n",
              "      <td>0.0</td>\n",
              "      <td>1.0</td>\n",
              "      <td>0.0</td>\n",
              "      <td>0.0</td>\n",
              "      <td>1.0</td>\n",
              "      <td>0.0</td>\n",
              "      <td>0.0</td>\n",
              "      <td>0.0</td>\n",
              "    </tr>\n",
              "  </tbody>\n",
              "</table>\n",
              "<p>3488 rows × 14 columns</p>\n",
              "</div>"
            ],
            "text/plain": [
              "       age  hypertension  heart_disease  avg_glucose_level       bmi  \\\n",
              "0     31.0           0.0            0.0             104.55  26.40000   \n",
              "1     80.0           0.0            0.0              84.86  31.85873   \n",
              "2     27.0           0.0            0.0             226.75  28.90000   \n",
              "3     50.0           0.0            0.0              95.25  24.30000   \n",
              "4     25.0           0.0            0.0             103.15  21.00000   \n",
              "...    ...           ...            ...                ...       ...   \n",
              "3483   8.0           0.0            0.0              78.48  16.10000   \n",
              "3484  53.0           0.0            0.0              96.88  31.40000   \n",
              "3485  33.0           0.0            0.0              70.59  20.20000   \n",
              "3486  66.0           0.0            0.0              72.53  25.30000   \n",
              "3487  59.0           0.0            0.0             237.15  27.70000   \n",
              "\n",
              "      smoking_status  gender_Male  ever_married_Yes  Residence_type_Urban  \\\n",
              "0                0.0          0.0               1.0                   0.0   \n",
              "1                3.0          0.0               1.0                   1.0   \n",
              "2                3.0          0.0               0.0                   0.0   \n",
              "3                0.0          0.0               1.0                   0.0   \n",
              "4                2.0          0.0               0.0                   0.0   \n",
              "...              ...          ...               ...                   ...   \n",
              "3483             3.0          1.0               0.0                   1.0   \n",
              "3484             3.0          0.0               1.0                   0.0   \n",
              "3485             3.0          0.0               1.0                   1.0   \n",
              "3486             2.0          0.0               1.0                   1.0   \n",
              "3487             0.0          0.0               1.0                   0.0   \n",
              "\n",
              "      work_type_Never_worked  work_type_Private  work_type_Self-employed  \\\n",
              "0                        0.0                0.0                      0.0   \n",
              "1                        0.0                0.0                      0.0   \n",
              "2                        0.0                1.0                      0.0   \n",
              "3                        0.0                0.0                      1.0   \n",
              "4                        0.0                0.0                      0.0   \n",
              "...                      ...                ...                      ...   \n",
              "3483                     0.0                0.0                      0.0   \n",
              "3484                     0.0                0.0                      1.0   \n",
              "3485                     0.0                0.0                      1.0   \n",
              "3486                     0.0                0.0                      0.0   \n",
              "3487                     0.0                1.0                      0.0   \n",
              "\n",
              "      work_type_children  stroke  \n",
              "0                    0.0     0.0  \n",
              "1                    0.0     0.0  \n",
              "2                    0.0     0.0  \n",
              "3                    0.0     0.0  \n",
              "4                    0.0     0.0  \n",
              "...                  ...     ...  \n",
              "3483                 1.0     0.0  \n",
              "3484                 0.0     0.0  \n",
              "3485                 0.0     0.0  \n",
              "3486                 0.0     0.0  \n",
              "3487                 0.0     0.0  \n",
              "\n",
              "[3488 rows x 14 columns]"
            ]
          },
          "execution_count": 32,
          "metadata": {},
          "output_type": "execute_result"
        }
      ],
      "source": [
        "train = preprocessor.fit_transform(train)\n",
        "test = preprocessor.transform(test)\n",
        "\n",
        "cols = ['age', 'hypertension', 'heart_disease', 'avg_glucose_level', 'bmi',\n",
        "       'smoking_status', 'gender_Male', 'ever_married_Yes',\n",
        "       'Residence_type_Urban', 'work_type_Never_worked', 'work_type_Private',\n",
        "       'work_type_Self-employed', 'work_type_children', 'stroke']\n",
        "\n",
        "train= pd.DataFrame(train)\n",
        "test = pd.DataFrame(test)\n",
        "train.columns = cols\n",
        "test.columns = cols\n",
        "\n",
        "train"
      ]
    },
    {
      "cell_type": "markdown",
      "id": "075bda4a",
      "metadata": {
        "id": "075bda4a"
      },
      "source": [
        "We should make sure that missing values in bmi were imputed correctly"
      ]
    },
    {
      "cell_type": "markdown",
      "id": "242d16c2",
      "metadata": {
        "id": "242d16c2"
      },
      "source": [
        "Here is bmi distribution in gender before imputation"
      ]
    },
    {
      "cell_type": "code",
      "execution_count": null,
      "id": "d942da53",
      "metadata": {
        "id": "d942da53",
        "outputId": "a301fb61-07b6-4cd7-9865-89cbbee54f77"
      },
      "outputs": [
        {
          "data": {
            "image/png": "[encoded data removed]",
            "text/plain": [
              "<Figure size 432x288 with 1 Axes>"
            ]
          },
          "metadata": {
            "needs_background": "light"
          },
          "output_type": "display_data"
        },
        {
          "name": "stdout",
          "output_type": "stream",
          "text": [
            "Mean of BMI value for Females:  28.258506075768455\n",
            "Mean of BMI value for Males:  28.262298387096802\n",
            "Mean of BMI value:  28.26007946465916\n"
          ]
        }
      ],
      "source": [
        "df_no_out.boxplot(column=\"bmi\",by = \"gender\")\n",
        "plt.show()\n",
        "print(\"Mean of BMI value for Females: \", np.mean(df_no_out[df_no_out['gender'] == 'Female']['bmi']))\n",
        "print(\"Mean of BMI value for Males: \", np.mean(df_no_out[df_no_out['gender'] == 'Male']['bmi']))\n",
        "print(\"Mean of BMI value: \", np.mean(df_no_out['bmi']))"
      ]
    },
    {
      "cell_type": "markdown",
      "id": "d2773541",
      "metadata": {
        "id": "d2773541"
      },
      "source": [
        "And after:"
      ]
    },
    {
      "cell_type": "code",
      "execution_count": null,
      "id": "065c3e24",
      "metadata": {
        "id": "065c3e24",
        "outputId": "7e6a78d5-edb8-4d70-b86c-1944625401ea"
      },
      "outputs": [
        {
          "data": {
            "image/png": "[encoded data removed]",
            "text/plain": [
              "<Figure size 432x288 with 1 Axes>"
            ]
          },
          "metadata": {
            "needs_background": "light"
          },
          "output_type": "display_data"
        },
        {
          "name": "stdout",
          "output_type": "stream",
          "text": [
            "Mean of BMI value for Females:  28.294876634088627\n",
            "Mean of BMI value for Males:  28.41755481199168\n",
            "Mean of BMI value:  28.345980817716264\n"
          ]
        }
      ],
      "source": [
        "train.boxplot(column=\"bmi\",by = \"gender_Male\")\n",
        "plt.show()\n",
        "print(\"Mean of BMI value for Females: \", np.mean(train[train['gender_Male'] == 0]['bmi']))\n",
        "print(\"Mean of BMI value for Males: \", np.mean(train[train['gender_Male'] == 1]['bmi']))\n",
        "print(\"Mean of BMI value: \", np.mean(train['bmi']))"
      ]
    },
    {
      "cell_type": "code",
      "execution_count": null,
      "id": "1c9bcf3f",
      "metadata": {
        "id": "1c9bcf3f",
        "outputId": "1bc323dc-48f7-42e1-9cce-522a8f7c61cf"
      },
      "outputs": [
        {
          "data": {
            "image/png": "[encoded data removed]",
            "text/plain": [
              "<Figure size 432x288 with 1 Axes>"
            ]
          },
          "metadata": {
            "needs_background": "light"
          },
          "output_type": "display_data"
        },
        {
          "name": "stdout",
          "output_type": "stream",
          "text": [
            "Mean of BMI value for Females:  28.354143431413306\n",
            "Mean of BMI value for Males:  28.114469274656408\n",
            "Mean of BMI value:  28.252342033727334\n"
          ]
        }
      ],
      "source": [
        "test.boxplot(column=\"bmi\",by = \"gender_Male\")\n",
        "plt.show()\n",
        "print(\"Mean of BMI value for Females: \", np.mean(test[test['gender_Male'] == 0]['bmi']))\n",
        "print(\"Mean of BMI value for Males: \", np.mean(test[test['gender_Male'] == 1]['bmi']))\n",
        "print(\"Mean of BMI value: \", np.mean(test['bmi']))"
      ]
    },
    {
      "cell_type": "markdown",
      "id": "e41f4e1a",
      "metadata": {
        "id": "e41f4e1a"
      },
      "source": [
        "The distribution hardly changed, so IterativeImputer worked fine."
      ]
    },
    {
      "cell_type": "markdown",
      "id": "c9ce8373",
      "metadata": {
        "id": "c9ce8373"
      },
      "source": [
        "#### Feature scaling"
      ]
    },
    {
      "cell_type": "markdown",
      "id": "1b473f23",
      "metadata": {
        "id": "1b473f23"
      },
      "source": [
        "Now we apply MinMaxScaler to numeric features - age, avg_glucose_level, bmi"
      ]
    },
    {
      "cell_type": "code",
      "execution_count": null,
      "id": "c75ba418",
      "metadata": {
        "id": "c75ba418",
        "outputId": "5c902a55-3ded-43b4-c124-bc2381ccf593"
      },
      "outputs": [
        {
          "data": {
            "text/html": [
              "<div>\n",
              "<style scoped>\n",
              "    .dataframe tbody tr th:only-of-type {\n",
              "        vertical-align: middle;\n",
              "    }\n",
              "\n",
              "    .dataframe tbody tr th {\n",
              "        vertical-align: top;\n",
              "    }\n",
              "\n",
              "    .dataframe thead th {\n",
              "        text-align: right;\n",
              "    }\n",
              "</style>\n",
              "<table border=\"1\" class=\"dataframe\">\n",
              "  <thead>\n",
              "    <tr style=\"text-align: right;\">\n",
              "      <th></th>\n",
              "      <th>age</th>\n",
              "      <th>hypertension</th>\n",
              "      <th>heart_disease</th>\n",
              "      <th>avg_glucose_level</th>\n",
              "      <th>bmi</th>\n",
              "      <th>smoking_status</th>\n",
              "      <th>gender_Male</th>\n",
              "      <th>ever_married_Yes</th>\n",
              "      <th>Residence_type_Urban</th>\n",
              "      <th>work_type_Never_worked</th>\n",
              "      <th>work_type_Private</th>\n",
              "      <th>work_type_Self-employed</th>\n",
              "      <th>work_type_children</th>\n",
              "      <th>stroke</th>\n",
              "    </tr>\n",
              "  </thead>\n",
              "  <tbody>\n",
              "    <tr>\n",
              "      <th>0</th>\n",
              "      <td>0.376833</td>\n",
              "      <td>0.0</td>\n",
              "      <td>0.0</td>\n",
              "      <td>0.228188</td>\n",
              "      <td>0.432665</td>\n",
              "      <td>0.0</td>\n",
              "      <td>0.0</td>\n",
              "      <td>1.0</td>\n",
              "      <td>0.0</td>\n",
              "      <td>0.0</td>\n",
              "      <td>0.0</td>\n",
              "      <td>0.0</td>\n",
              "      <td>0.0</td>\n",
              "      <td>0.0</td>\n",
              "    </tr>\n",
              "    <tr>\n",
              "      <th>1</th>\n",
              "      <td>0.975562</td>\n",
              "      <td>0.0</td>\n",
              "      <td>0.0</td>\n",
              "      <td>0.137291</td>\n",
              "      <td>0.589075</td>\n",
              "      <td>3.0</td>\n",
              "      <td>0.0</td>\n",
              "      <td>1.0</td>\n",
              "      <td>1.0</td>\n",
              "      <td>0.0</td>\n",
              "      <td>0.0</td>\n",
              "      <td>0.0</td>\n",
              "      <td>0.0</td>\n",
              "      <td>0.0</td>\n",
              "    </tr>\n",
              "    <tr>\n",
              "      <th>2</th>\n",
              "      <td>0.327957</td>\n",
              "      <td>0.0</td>\n",
              "      <td>0.0</td>\n",
              "      <td>0.792309</td>\n",
              "      <td>0.504298</td>\n",
              "      <td>3.0</td>\n",
              "      <td>0.0</td>\n",
              "      <td>0.0</td>\n",
              "      <td>0.0</td>\n",
              "      <td>0.0</td>\n",
              "      <td>1.0</td>\n",
              "      <td>0.0</td>\n",
              "      <td>0.0</td>\n",
              "      <td>0.0</td>\n",
              "    </tr>\n",
              "    <tr>\n",
              "      <th>3</th>\n",
              "      <td>0.608993</td>\n",
              "      <td>0.0</td>\n",
              "      <td>0.0</td>\n",
              "      <td>0.185255</td>\n",
              "      <td>0.372493</td>\n",
              "      <td>0.0</td>\n",
              "      <td>0.0</td>\n",
              "      <td>1.0</td>\n",
              "      <td>0.0</td>\n",
              "      <td>0.0</td>\n",
              "      <td>0.0</td>\n",
              "      <td>1.0</td>\n",
              "      <td>0.0</td>\n",
              "      <td>0.0</td>\n",
              "    </tr>\n",
              "    <tr>\n",
              "      <th>4</th>\n",
              "      <td>0.303519</td>\n",
              "      <td>0.0</td>\n",
              "      <td>0.0</td>\n",
              "      <td>0.221725</td>\n",
              "      <td>0.277937</td>\n",
              "      <td>2.0</td>\n",
              "      <td>0.0</td>\n",
              "      <td>0.0</td>\n",
              "      <td>0.0</td>\n",
              "      <td>0.0</td>\n",
              "      <td>0.0</td>\n",
              "      <td>0.0</td>\n",
              "      <td>0.0</td>\n",
              "      <td>0.0</td>\n",
              "    </tr>\n",
              "    <tr>\n",
              "      <th>...</th>\n",
              "      <td>...</td>\n",
              "      <td>...</td>\n",
              "      <td>...</td>\n",
              "      <td>...</td>\n",
              "      <td>...</td>\n",
              "      <td>...</td>\n",
              "      <td>...</td>\n",
              "      <td>...</td>\n",
              "      <td>...</td>\n",
              "      <td>...</td>\n",
              "      <td>...</td>\n",
              "      <td>...</td>\n",
              "      <td>...</td>\n",
              "      <td>...</td>\n",
              "    </tr>\n",
              "    <tr>\n",
              "      <th>3483</th>\n",
              "      <td>0.095797</td>\n",
              "      <td>0.0</td>\n",
              "      <td>0.0</td>\n",
              "      <td>0.107839</td>\n",
              "      <td>0.137536</td>\n",
              "      <td>3.0</td>\n",
              "      <td>1.0</td>\n",
              "      <td>0.0</td>\n",
              "      <td>1.0</td>\n",
              "      <td>0.0</td>\n",
              "      <td>0.0</td>\n",
              "      <td>0.0</td>\n",
              "      <td>1.0</td>\n",
              "      <td>0.0</td>\n",
              "    </tr>\n",
              "    <tr>\n",
              "      <th>3484</th>\n",
              "      <td>0.645650</td>\n",
              "      <td>0.0</td>\n",
              "      <td>0.0</td>\n",
              "      <td>0.192780</td>\n",
              "      <td>0.575931</td>\n",
              "      <td>3.0</td>\n",
              "      <td>0.0</td>\n",
              "      <td>1.0</td>\n",
              "      <td>0.0</td>\n",
              "      <td>0.0</td>\n",
              "      <td>0.0</td>\n",
              "      <td>1.0</td>\n",
              "      <td>0.0</td>\n",
              "      <td>0.0</td>\n",
              "    </tr>\n",
              "    <tr>\n",
              "      <th>3485</th>\n",
              "      <td>0.401271</td>\n",
              "      <td>0.0</td>\n",
              "      <td>0.0</td>\n",
              "      <td>0.071415</td>\n",
              "      <td>0.255014</td>\n",
              "      <td>3.0</td>\n",
              "      <td>0.0</td>\n",
              "      <td>1.0</td>\n",
              "      <td>1.0</td>\n",
              "      <td>0.0</td>\n",
              "      <td>0.0</td>\n",
              "      <td>1.0</td>\n",
              "      <td>0.0</td>\n",
              "      <td>0.0</td>\n",
              "    </tr>\n",
              "    <tr>\n",
              "      <th>3486</th>\n",
              "      <td>0.804497</td>\n",
              "      <td>0.0</td>\n",
              "      <td>0.0</td>\n",
              "      <td>0.080371</td>\n",
              "      <td>0.401146</td>\n",
              "      <td>2.0</td>\n",
              "      <td>0.0</td>\n",
              "      <td>1.0</td>\n",
              "      <td>1.0</td>\n",
              "      <td>0.0</td>\n",
              "      <td>0.0</td>\n",
              "      <td>0.0</td>\n",
              "      <td>0.0</td>\n",
              "      <td>0.0</td>\n",
              "    </tr>\n",
              "    <tr>\n",
              "      <th>3487</th>\n",
              "      <td>0.718964</td>\n",
              "      <td>0.0</td>\n",
              "      <td>0.0</td>\n",
              "      <td>0.840319</td>\n",
              "      <td>0.469914</td>\n",
              "      <td>0.0</td>\n",
              "      <td>0.0</td>\n",
              "      <td>1.0</td>\n",
              "      <td>0.0</td>\n",
              "      <td>0.0</td>\n",
              "      <td>1.0</td>\n",
              "      <td>0.0</td>\n",
              "      <td>0.0</td>\n",
              "      <td>0.0</td>\n",
              "    </tr>\n",
              "  </tbody>\n",
              "</table>\n",
              "<p>3488 rows × 14 columns</p>\n",
              "</div>"
            ],
            "text/plain": [
              "           age  hypertension  heart_disease  avg_glucose_level       bmi  \\\n",
              "0     0.376833           0.0            0.0           0.228188  0.432665   \n",
              "1     0.975562           0.0            0.0           0.137291  0.589075   \n",
              "2     0.327957           0.0            0.0           0.792309  0.504298   \n",
              "3     0.608993           0.0            0.0           0.185255  0.372493   \n",
              "4     0.303519           0.0            0.0           0.221725  0.277937   \n",
              "...        ...           ...            ...                ...       ...   \n",
              "3483  0.095797           0.0            0.0           0.107839  0.137536   \n",
              "3484  0.645650           0.0            0.0           0.192780  0.575931   \n",
              "3485  0.401271           0.0            0.0           0.071415  0.255014   \n",
              "3486  0.804497           0.0            0.0           0.080371  0.401146   \n",
              "3487  0.718964           0.0            0.0           0.840319  0.469914   \n",
              "\n",
              "      smoking_status  gender_Male  ever_married_Yes  Residence_type_Urban  \\\n",
              "0                0.0          0.0               1.0                   0.0   \n",
              "1                3.0          0.0               1.0                   1.0   \n",
              "2                3.0          0.0               0.0                   0.0   \n",
              "3                0.0          0.0               1.0                   0.0   \n",
              "4                2.0          0.0               0.0                   0.0   \n",
              "...              ...          ...               ...                   ...   \n",
              "3483             3.0          1.0               0.0                   1.0   \n",
              "3484             3.0          0.0               1.0                   0.0   \n",
              "3485             3.0          0.0               1.0                   1.0   \n",
              "3486             2.0          0.0               1.0                   1.0   \n",
              "3487             0.0          0.0               1.0                   0.0   \n",
              "\n",
              "      work_type_Never_worked  work_type_Private  work_type_Self-employed  \\\n",
              "0                        0.0                0.0                      0.0   \n",
              "1                        0.0                0.0                      0.0   \n",
              "2                        0.0                1.0                      0.0   \n",
              "3                        0.0                0.0                      1.0   \n",
              "4                        0.0                0.0                      0.0   \n",
              "...                      ...                ...                      ...   \n",
              "3483                     0.0                0.0                      0.0   \n",
              "3484                     0.0                0.0                      1.0   \n",
              "3485                     0.0                0.0                      1.0   \n",
              "3486                     0.0                0.0                      0.0   \n",
              "3487                     0.0                1.0                      0.0   \n",
              "\n",
              "      work_type_children  stroke  \n",
              "0                    0.0     0.0  \n",
              "1                    0.0     0.0  \n",
              "2                    0.0     0.0  \n",
              "3                    0.0     0.0  \n",
              "4                    0.0     0.0  \n",
              "...                  ...     ...  \n",
              "3483                 1.0     0.0  \n",
              "3484                 0.0     0.0  \n",
              "3485                 0.0     0.0  \n",
              "3486                 0.0     0.0  \n",
              "3487                 0.0     0.0  \n",
              "\n",
              "[3488 rows x 14 columns]"
            ]
          },
          "execution_count": 36,
          "metadata": {},
          "output_type": "execute_result"
        }
      ],
      "source": [
        "scaler = MinMaxScaler()\n",
        "train.loc[:, ['age', 'avg_glucose_level', 'bmi']] = scaler.fit_transform(train.loc[:,['age', 'avg_glucose_level', 'bmi']])\n",
        "test.loc[:, ['age', 'avg_glucose_level', 'bmi']] = scaler.transform(test.loc[:,['age', 'avg_glucose_level', 'bmi']])\n",
        "train"
      ]
    },
    {
      "cell_type": "markdown",
      "id": "05922fc9",
      "metadata": {
        "id": "05922fc9"
      },
      "source": [
        "### Preprocessing - final remarks"
      ]
    },
    {
      "cell_type": "code",
      "execution_count": null,
      "id": "0fd0fac8",
      "metadata": {
        "id": "0fd0fac8",
        "outputId": "da6da82f-75c3-4859-ac9c-7815c7b77422"
      },
      "outputs": [
        {
          "data": {
            "text/plain": [
              "<AxesSubplot:>"
            ]
          },
          "execution_count": 37,
          "metadata": {},
          "output_type": "execute_result"
        },
        {
          "data": {
            "image/png": "[encoded data removed]",
            "text/plain": [
              "<Figure size 432x288 with 2 Axes>"
            ]
          },
          "metadata": {
            "needs_background": "light"
          },
          "output_type": "display_data"
        }
      ],
      "source": [
        "sns.heatmap(train.corr())"
      ]
    },
    {
      "cell_type": "code",
      "execution_count": null,
      "id": "1b43e8af",
      "metadata": {
        "id": "1b43e8af",
        "outputId": "36f63947-7b03-4627-ac91-c7f863c6c9bf"
      },
      "outputs": [
        {
          "data": {
            "text/html": [
              "<div>\n",
              "<style scoped>\n",
              "    .dataframe tbody tr th:only-of-type {\n",
              "        vertical-align: middle;\n",
              "    }\n",
              "\n",
              "    .dataframe tbody tr th {\n",
              "        vertical-align: top;\n",
              "    }\n",
              "\n",
              "    .dataframe thead th {\n",
              "        text-align: right;\n",
              "    }\n",
              "</style>\n",
              "<table border=\"1\" class=\"dataframe\">\n",
              "  <thead>\n",
              "    <tr style=\"text-align: right;\">\n",
              "      <th></th>\n",
              "      <th>age</th>\n",
              "      <th>ever_married_Yes</th>\n",
              "    </tr>\n",
              "  </thead>\n",
              "  <tbody>\n",
              "    <tr>\n",
              "      <th>age</th>\n",
              "      <td>1.000000</td>\n",
              "      <td>0.685632</td>\n",
              "    </tr>\n",
              "    <tr>\n",
              "      <th>ever_married_Yes</th>\n",
              "      <td>0.685632</td>\n",
              "      <td>1.000000</td>\n",
              "    </tr>\n",
              "  </tbody>\n",
              "</table>\n",
              "</div>"
            ],
            "text/plain": [
              "                       age  ever_married_Yes\n",
              "age               1.000000          0.685632\n",
              "ever_married_Yes  0.685632          1.000000"
            ]
          },
          "execution_count": 38,
          "metadata": {},
          "output_type": "execute_result"
        }
      ],
      "source": [
        "train.loc[:,['age', 'ever_married_Yes']].corr()"
      ]
    },
    {
      "cell_type": "markdown",
      "id": "595a5e1f",
      "metadata": {
        "id": "595a5e1f"
      },
      "source": [
        "Correlation between two features, age and ever_married, is around 0.68. This value is not big enough to be a threat"
      ]
    },
    {
      "cell_type": "markdown",
      "id": "26f6ce58",
      "metadata": {
        "id": "26f6ce58"
      },
      "source": [
        "## Dataset transformation"
      ]
    },
    {
      "cell_type": "code",
      "execution_count": null,
      "id": "e979acb4",
      "metadata": {
        "id": "e979acb4",
        "outputId": "5533b065-c59c-49b4-a6d6-4ef9e20749b8"
      },
      "outputs": [
        {
          "data": {
            "text/html": [
              "<div>\n",
              "<style scoped>\n",
              "    .dataframe tbody tr th:only-of-type {\n",
              "        vertical-align: middle;\n",
              "    }\n",
              "\n",
              "    .dataframe tbody tr th {\n",
              "        vertical-align: top;\n",
              "    }\n",
              "\n",
              "    .dataframe thead th {\n",
              "        text-align: right;\n",
              "    }\n",
              "</style>\n",
              "<table border=\"1\" class=\"dataframe\">\n",
              "  <thead>\n",
              "    <tr style=\"text-align: right;\">\n",
              "      <th></th>\n",
              "      <th>age</th>\n",
              "      <th>hypertension</th>\n",
              "      <th>heart_disease</th>\n",
              "      <th>avg_glucose_level</th>\n",
              "      <th>bmi</th>\n",
              "      <th>smoking_status</th>\n",
              "      <th>gender_Male</th>\n",
              "      <th>ever_married_Yes</th>\n",
              "      <th>Residence_type_Urban</th>\n",
              "      <th>work_type_Never_worked</th>\n",
              "      <th>work_type_Private</th>\n",
              "      <th>work_type_Self-employed</th>\n",
              "      <th>work_type_children</th>\n",
              "    </tr>\n",
              "  </thead>\n",
              "  <tbody>\n",
              "    <tr>\n",
              "      <th>0</th>\n",
              "      <td>0.376833</td>\n",
              "      <td>0.0</td>\n",
              "      <td>0.0</td>\n",
              "      <td>0.228188</td>\n",
              "      <td>0.432665</td>\n",
              "      <td>0.0</td>\n",
              "      <td>0.0</td>\n",
              "      <td>1.0</td>\n",
              "      <td>0.0</td>\n",
              "      <td>0.0</td>\n",
              "      <td>0.0</td>\n",
              "      <td>0.0</td>\n",
              "      <td>0.0</td>\n",
              "    </tr>\n",
              "    <tr>\n",
              "      <th>1</th>\n",
              "      <td>0.975562</td>\n",
              "      <td>0.0</td>\n",
              "      <td>0.0</td>\n",
              "      <td>0.137291</td>\n",
              "      <td>0.589075</td>\n",
              "      <td>3.0</td>\n",
              "      <td>0.0</td>\n",
              "      <td>1.0</td>\n",
              "      <td>1.0</td>\n",
              "      <td>0.0</td>\n",
              "      <td>0.0</td>\n",
              "      <td>0.0</td>\n",
              "      <td>0.0</td>\n",
              "    </tr>\n",
              "    <tr>\n",
              "      <th>2</th>\n",
              "      <td>0.327957</td>\n",
              "      <td>0.0</td>\n",
              "      <td>0.0</td>\n",
              "      <td>0.792309</td>\n",
              "      <td>0.504298</td>\n",
              "      <td>3.0</td>\n",
              "      <td>0.0</td>\n",
              "      <td>0.0</td>\n",
              "      <td>0.0</td>\n",
              "      <td>0.0</td>\n",
              "      <td>1.0</td>\n",
              "      <td>0.0</td>\n",
              "      <td>0.0</td>\n",
              "    </tr>\n",
              "    <tr>\n",
              "      <th>3</th>\n",
              "      <td>0.608993</td>\n",
              "      <td>0.0</td>\n",
              "      <td>0.0</td>\n",
              "      <td>0.185255</td>\n",
              "      <td>0.372493</td>\n",
              "      <td>0.0</td>\n",
              "      <td>0.0</td>\n",
              "      <td>1.0</td>\n",
              "      <td>0.0</td>\n",
              "      <td>0.0</td>\n",
              "      <td>0.0</td>\n",
              "      <td>1.0</td>\n",
              "      <td>0.0</td>\n",
              "    </tr>\n",
              "    <tr>\n",
              "      <th>4</th>\n",
              "      <td>0.303519</td>\n",
              "      <td>0.0</td>\n",
              "      <td>0.0</td>\n",
              "      <td>0.221725</td>\n",
              "      <td>0.277937</td>\n",
              "      <td>2.0</td>\n",
              "      <td>0.0</td>\n",
              "      <td>0.0</td>\n",
              "      <td>0.0</td>\n",
              "      <td>0.0</td>\n",
              "      <td>0.0</td>\n",
              "      <td>0.0</td>\n",
              "      <td>0.0</td>\n",
              "    </tr>\n",
              "    <tr>\n",
              "      <th>...</th>\n",
              "      <td>...</td>\n",
              "      <td>...</td>\n",
              "      <td>...</td>\n",
              "      <td>...</td>\n",
              "      <td>...</td>\n",
              "      <td>...</td>\n",
              "      <td>...</td>\n",
              "      <td>...</td>\n",
              "      <td>...</td>\n",
              "      <td>...</td>\n",
              "      <td>...</td>\n",
              "      <td>...</td>\n",
              "      <td>...</td>\n",
              "    </tr>\n",
              "    <tr>\n",
              "      <th>3483</th>\n",
              "      <td>0.095797</td>\n",
              "      <td>0.0</td>\n",
              "      <td>0.0</td>\n",
              "      <td>0.107839</td>\n",
              "      <td>0.137536</td>\n",
              "      <td>3.0</td>\n",
              "      <td>1.0</td>\n",
              "      <td>0.0</td>\n",
              "      <td>1.0</td>\n",
              "      <td>0.0</td>\n",
              "      <td>0.0</td>\n",
              "      <td>0.0</td>\n",
              "      <td>1.0</td>\n",
              "    </tr>\n",
              "    <tr>\n",
              "      <th>3484</th>\n",
              "      <td>0.645650</td>\n",
              "      <td>0.0</td>\n",
              "      <td>0.0</td>\n",
              "      <td>0.192780</td>\n",
              "      <td>0.575931</td>\n",
              "      <td>3.0</td>\n",
              "      <td>0.0</td>\n",
              "      <td>1.0</td>\n",
              "      <td>0.0</td>\n",
              "      <td>0.0</td>\n",
              "      <td>0.0</td>\n",
              "      <td>1.0</td>\n",
              "      <td>0.0</td>\n",
              "    </tr>\n",
              "    <tr>\n",
              "      <th>3485</th>\n",
              "      <td>0.401271</td>\n",
              "      <td>0.0</td>\n",
              "      <td>0.0</td>\n",
              "      <td>0.071415</td>\n",
              "      <td>0.255014</td>\n",
              "      <td>3.0</td>\n",
              "      <td>0.0</td>\n",
              "      <td>1.0</td>\n",
              "      <td>1.0</td>\n",
              "      <td>0.0</td>\n",
              "      <td>0.0</td>\n",
              "      <td>1.0</td>\n",
              "      <td>0.0</td>\n",
              "    </tr>\n",
              "    <tr>\n",
              "      <th>3486</th>\n",
              "      <td>0.804497</td>\n",
              "      <td>0.0</td>\n",
              "      <td>0.0</td>\n",
              "      <td>0.080371</td>\n",
              "      <td>0.401146</td>\n",
              "      <td>2.0</td>\n",
              "      <td>0.0</td>\n",
              "      <td>1.0</td>\n",
              "      <td>1.0</td>\n",
              "      <td>0.0</td>\n",
              "      <td>0.0</td>\n",
              "      <td>0.0</td>\n",
              "      <td>0.0</td>\n",
              "    </tr>\n",
              "    <tr>\n",
              "      <th>3487</th>\n",
              "      <td>0.718964</td>\n",
              "      <td>0.0</td>\n",
              "      <td>0.0</td>\n",
              "      <td>0.840319</td>\n",
              "      <td>0.469914</td>\n",
              "      <td>0.0</td>\n",
              "      <td>0.0</td>\n",
              "      <td>1.0</td>\n",
              "      <td>0.0</td>\n",
              "      <td>0.0</td>\n",
              "      <td>1.0</td>\n",
              "      <td>0.0</td>\n",
              "      <td>0.0</td>\n",
              "    </tr>\n",
              "  </tbody>\n",
              "</table>\n",
              "<p>3488 rows × 13 columns</p>\n",
              "</div>"
            ],
            "text/plain": [
              "           age  hypertension  heart_disease  avg_glucose_level       bmi  \\\n",
              "0     0.376833           0.0            0.0           0.228188  0.432665   \n",
              "1     0.975562           0.0            0.0           0.137291  0.589075   \n",
              "2     0.327957           0.0            0.0           0.792309  0.504298   \n",
              "3     0.608993           0.0            0.0           0.185255  0.372493   \n",
              "4     0.303519           0.0            0.0           0.221725  0.277937   \n",
              "...        ...           ...            ...                ...       ...   \n",
              "3483  0.095797           0.0            0.0           0.107839  0.137536   \n",
              "3484  0.645650           0.0            0.0           0.192780  0.575931   \n",
              "3485  0.401271           0.0            0.0           0.071415  0.255014   \n",
              "3486  0.804497           0.0            0.0           0.080371  0.401146   \n",
              "3487  0.718964           0.0            0.0           0.840319  0.469914   \n",
              "\n",
              "      smoking_status  gender_Male  ever_married_Yes  Residence_type_Urban  \\\n",
              "0                0.0          0.0               1.0                   0.0   \n",
              "1                3.0          0.0               1.0                   1.0   \n",
              "2                3.0          0.0               0.0                   0.0   \n",
              "3                0.0          0.0               1.0                   0.0   \n",
              "4                2.0          0.0               0.0                   0.0   \n",
              "...              ...          ...               ...                   ...   \n",
              "3483             3.0          1.0               0.0                   1.0   \n",
              "3484             3.0          0.0               1.0                   0.0   \n",
              "3485             3.0          0.0               1.0                   1.0   \n",
              "3486             2.0          0.0               1.0                   1.0   \n",
              "3487             0.0          0.0               1.0                   0.0   \n",
              "\n",
              "      work_type_Never_worked  work_type_Private  work_type_Self-employed  \\\n",
              "0                        0.0                0.0                      0.0   \n",
              "1                        0.0                0.0                      0.0   \n",
              "2                        0.0                1.0                      0.0   \n",
              "3                        0.0                0.0                      1.0   \n",
              "4                        0.0                0.0                      0.0   \n",
              "...                      ...                ...                      ...   \n",
              "3483                     0.0                0.0                      0.0   \n",
              "3484                     0.0                0.0                      1.0   \n",
              "3485                     0.0                0.0                      1.0   \n",
              "3486                     0.0                0.0                      0.0   \n",
              "3487                     0.0                1.0                      0.0   \n",
              "\n",
              "      work_type_children  \n",
              "0                    0.0  \n",
              "1                    0.0  \n",
              "2                    0.0  \n",
              "3                    0.0  \n",
              "4                    0.0  \n",
              "...                  ...  \n",
              "3483                 1.0  \n",
              "3484                 0.0  \n",
              "3485                 0.0  \n",
              "3486                 0.0  \n",
              "3487                 0.0  \n",
              "\n",
              "[3488 rows x 13 columns]"
            ]
          },
          "execution_count": 39,
          "metadata": {},
          "output_type": "execute_result"
        }
      ],
      "source": [
        "X_train = train.drop(['stroke'], axis = 1)\n",
        "X_test = test.drop(['stroke'], axis = 1)\n",
        "y_train = train.loc[:, 'stroke'] \n",
        "y_test = test.loc[:, 'stroke']\n",
        "X_train"
      ]
    },
    {
      "cell_type": "markdown",
      "id": "f5c59870",
      "metadata": {
        "id": "f5c59870"
      },
      "source": [
        "Our target variable is highly imbalanced. We have to pick a resampling method in order to obtain satisfying results"
      ]
    },
    {
      "cell_type": "markdown",
      "id": "b86a5af9",
      "metadata": {
        "id": "b86a5af9"
      },
      "source": [
        "#### SMOTE_NC"
      ]
    },
    {
      "cell_type": "code",
      "execution_count": null,
      "id": "ad599988",
      "metadata": {
        "id": "ad599988",
        "outputId": "85e41cbf-9a52-4934-978b-0879b65b3a3d"
      },
      "outputs": [
        {
          "name": "stdout",
          "output_type": "stream",
          "text": [
            "Shape of X before SMOTE: (3488, 13)\n",
            "Shape of X after SMOTE: (6654, 13)\n",
            "\n",
            "Balance of positive and negative classes (%):\n"
          ]
        },
        {
          "data": {
            "text/plain": [
              "0.0    50.0\n",
              "1.0    50.0\n",
              "Name: stroke, dtype: float64"
            ]
          },
          "execution_count": 40,
          "metadata": {},
          "output_type": "execute_result"
        }
      ],
      "source": [
        "smote_nc = SMOTENC(categorical_features=[1, 2, 5, 6, 7, 8, 9, 10, 11, 12], random_state=42)\n",
        "X_smote, y_smote = smote_nc.fit_resample(X_train, y_train)\n",
        "\n",
        "print(f'''Shape of X before SMOTE: {X_train.shape}\n",
        "Shape of X after SMOTE: {X_smote.shape}''')\n",
        "\n",
        "print('\\nBalance of positive and negative classes (%):')\n",
        "y_smote.value_counts(normalize=True) * 100"
      ]
    },
    {
      "cell_type": "markdown",
      "id": "6a71f8b7",
      "metadata": {
        "id": "6a71f8b7"
      },
      "source": [
        "#### Validation test split"
      ]
    },
    {
      "cell_type": "code",
      "execution_count": null,
      "id": "2e91c45b",
      "metadata": {
        "id": "2e91c45b"
      },
      "outputs": [],
      "source": [
        "X_val, X_test, y_val, y_test = train_test_split(X_test, y_test, test_size=0.5, random_state=42)"
      ]
    },
    {
      "cell_type": "markdown",
      "id": "6d79502b",
      "metadata": {
        "id": "6d79502b"
      },
      "source": [
        "# Feature selection"
      ]
    },
    {
      "cell_type": "code",
      "execution_count": null,
      "id": "b3e75668",
      "metadata": {
        "id": "b3e75668",
        "outputId": "5761a97d-e2d7-4910-c982-7fe02107a463"
      },
      "outputs": [
        {
          "data": {
            "text/plain": [
              "SelectFromModel(estimator=RandomForestClassifier(n_estimators=1000))"
            ]
          },
          "execution_count": 42,
          "metadata": {},
          "output_type": "execute_result"
        }
      ],
      "source": [
        "sel = SelectFromModel(RandomForestClassifier(n_estimators = 1000))\n",
        "sel.fit(X_train, y_train)"
      ]
    },
    {
      "cell_type": "code",
      "execution_count": null,
      "id": "39485109",
      "metadata": {
        "id": "39485109",
        "outputId": "0c4bdd49-ef54-4810-ef67-024ad8667076"
      },
      "outputs": [
        {
          "name": "stdout",
          "output_type": "stream",
          "text": [
            "Index(['age', 'avg_glucose_level', 'bmi'], dtype='object')\n"
          ]
        }
      ],
      "source": [
        "sel.get_support()\n",
        "\n",
        "selected_feat= X_train.columns[(sel.get_support())]\n",
        "len(selected_feat)\n",
        "print(selected_feat)"
      ]
    },
    {
      "cell_type": "code",
      "execution_count": null,
      "id": "0d5072c7",
      "metadata": {
        "id": "0d5072c7",
        "outputId": "fde1c581-0564-456c-d71a-ab80a49f1eb8"
      },
      "outputs": [
        {
          "data": {
            "text/plain": [
              "array([2.38353493e-01, 2.66936672e-02, 2.38076566e-02, 2.74087881e-01,\n",
              "       2.47938490e-01, 6.61266232e-02, 2.96970171e-02, 1.98285493e-02,\n",
              "       3.10026733e-02, 1.05546260e-05, 2.36643469e-02, 1.76114540e-02,\n",
              "       1.17759347e-03])"
            ]
          },
          "execution_count": 44,
          "metadata": {},
          "output_type": "execute_result"
        }
      ],
      "source": [
        "rfc = RandomForestClassifier(n_estimators = 1000)\n",
        "rfc.fit(X_train, y_train)\n",
        "rfc.feature_importances_"
      ]
    },
    {
      "cell_type": "code",
      "execution_count": null,
      "id": "92429c2a",
      "metadata": {
        "id": "92429c2a",
        "outputId": "399b1567-af86-45db-c620-cd20799d77b5"
      },
      "outputs": [
        {
          "name": "stdout",
          "output_type": "stream",
          "text": [
            "('age', 0.2383534934478435)\n",
            "('hypertension', 0.02669366719383345)\n",
            "('heart_disease', 0.023807656555089637)\n",
            "('avg_glucose_level', 0.2740878811318811)\n",
            "('bmi', 0.24793848981133979)\n",
            "('smoking_status', 0.06612662316957725)\n",
            "('gender_Male', 0.029697017121109757)\n",
            "('ever_married_Yes', 0.019828549321750835)\n",
            "('Residence_type_Urban', 0.03100267329555576)\n",
            "('work_type_Never_worked', 1.055462603681882e-05)\n",
            "('work_type_Private', 0.023664346900288673)\n",
            "('work_type_Self-employed', 0.01761145395984966)\n",
            "('work_type_children', 0.0011775934658437607)\n"
          ]
        }
      ],
      "source": [
        "cols = ['age', 'hypertension', 'heart_disease', 'avg_glucose_level', 'bmi',\n",
        "       'smoking_status', 'gender_Male', 'ever_married_Yes',\n",
        "       'Residence_type_Urban', 'work_type_Never_worked', 'work_type_Private',\n",
        "       'work_type_Self-employed', 'work_type_children']\n",
        "features = cols\n",
        "for feature in zip(features, rfc.feature_importances_):\n",
        "    print(feature)"
      ]
    },
    {
      "cell_type": "code",
      "execution_count": null,
      "id": "4a3c74a7",
      "metadata": {
        "id": "4a3c74a7",
        "outputId": "a315231b-a2f4-4047-f0d1-dd23942d94f1"
      },
      "outputs": [
        {
          "data": {
            "text/plain": [
              "<BarContainer object of 13 artists>"
            ]
          },
          "execution_count": 46,
          "metadata": {},
          "output_type": "execute_result"
        },
        {
          "data": {
            "image/png": "[encoded data removed]",
            "text/plain": [
              "<Figure size 432x288 with 1 Axes>"
            ]
          },
          "metadata": {
            "needs_background": "light"
          },
          "output_type": "display_data"
        }
      ],
      "source": [
        "plt.barh(features, rfc.feature_importances_)"
      ]
    },
    {
      "cell_type": "markdown",
      "id": "0fa16bc4",
      "metadata": {
        "id": "0fa16bc4"
      },
      "source": [
        "As we can see, features with the biggest importance are: bmi, avg_glucose_level and age. However, all scores are below 0.3, so we will include all features."
      ]
    },
    {
      "cell_type": "markdown",
      "id": "14f35f4e",
      "metadata": {
        "id": "14f35f4e"
      },
      "source": [
        "# Model selection"
      ]
    },
    {
      "cell_type": "code",
      "execution_count": null,
      "id": "62456a58",
      "metadata": {
        "id": "62456a58",
        "outputId": "0190968f-f547-45eb-8095-59a34206bc2a"
      },
      "outputs": [
        {
          "name": "stdout",
          "output_type": "stream",
          "text": [
            "GaussianNB\n",
            "Train score of trained model: 65.94529606251879\n",
            "Validation score of trained model: 38.152610441767074\n",
            "Test score of trained model: 39.97326203208556\n",
            " \n",
            "Confussion Matrix: \n",
            "[[262 445]\n",
            " [  4  37]]\n",
            "\n",
            "              precision    recall  f1-score   support\n",
            "\n",
            "         0.0       0.98      0.37      0.54       707\n",
            "         1.0       0.08      0.90      0.14        41\n",
            "\n",
            "    accuracy                           0.40       748\n",
            "   macro avg       0.53      0.64      0.34       748\n",
            "weighted avg       0.94      0.40      0.52       748\n",
            "\n",
            "############################################################################\n",
            "\n",
            "\n",
            "\n",
            "LogisticRegression\n",
            "Train score of trained model: 78.11842500751428\n",
            "Validation score of trained model: 71.8875502008032\n",
            "Test score of trained model: 71.65775401069519\n",
            " \n",
            "Confussion Matrix: \n",
            "[[508 199]\n",
            " [ 13  28]]\n",
            "\n",
            "              precision    recall  f1-score   support\n",
            "\n",
            "         0.0       0.98      0.72      0.83       707\n",
            "         1.0       0.12      0.68      0.21        41\n",
            "\n",
            "    accuracy                           0.72       748\n",
            "   macro avg       0.55      0.70      0.52       748\n",
            "weighted avg       0.93      0.72      0.79       748\n",
            "\n",
            "############################################################################\n",
            "\n",
            "\n",
            "\n",
            "RandomForestClassifier\n",
            "Train score of trained model: 100.0\n",
            "Validation score of trained model: 89.1566265060241\n",
            "Test score of trained model: 88.10160427807486\n",
            " \n",
            "Confussion Matrix: \n",
            "[[655  52]\n",
            " [ 37   4]]\n",
            "\n",
            "              precision    recall  f1-score   support\n",
            "\n",
            "         0.0       0.95      0.93      0.94       707\n",
            "         1.0       0.07      0.10      0.08        41\n",
            "\n",
            "    accuracy                           0.88       748\n",
            "   macro avg       0.51      0.51      0.51       748\n",
            "weighted avg       0.90      0.88      0.89       748\n",
            "\n",
            "############################################################################\n",
            "\n",
            "\n",
            "\n",
            "SupportVectorMachine\n",
            "Train score of trained model: 83.85933273219116\n",
            "Validation score of trained model: 73.22623828647924\n",
            "Test score of trained model: 72.99465240641712\n",
            " \n",
            "Confussion Matrix: \n",
            "[[523 184]\n",
            " [ 18  23]]\n",
            "\n",
            "              precision    recall  f1-score   support\n",
            "\n",
            "         0.0       0.97      0.74      0.84       707\n",
            "         1.0       0.11      0.56      0.19        41\n",
            "\n",
            "    accuracy                           0.73       748\n",
            "   macro avg       0.54      0.65      0.51       748\n",
            "weighted avg       0.92      0.73      0.80       748\n",
            "\n",
            "############################################################################\n",
            "\n",
            "\n",
            "\n",
            "DecisionTreeClassifier\n",
            "Train score of trained model: 100.0\n",
            "Validation score of trained model: 88.08567603748327\n",
            "Test score of trained model: 85.16042780748663\n",
            " \n",
            "Confussion Matrix: \n",
            "[[625  82]\n",
            " [ 29  12]]\n",
            "\n",
            "              precision    recall  f1-score   support\n",
            "\n",
            "         0.0       0.96      0.88      0.92       707\n",
            "         1.0       0.13      0.29      0.18        41\n",
            "\n",
            "    accuracy                           0.85       748\n",
            "   macro avg       0.54      0.59      0.55       748\n",
            "weighted avg       0.91      0.85      0.88       748\n",
            "\n",
            "############################################################################\n",
            "\n",
            "\n",
            "\n",
            "KNeighborsClassifier\n",
            "Train score of trained model: 93.10189359783588\n",
            "Validation score of trained model: 80.18741633199464\n",
            "Test score of trained model: 80.88235294117648\n",
            " \n",
            "Confussion Matrix: \n",
            "[[596 111]\n",
            " [ 32   9]]\n",
            "\n",
            "              precision    recall  f1-score   support\n",
            "\n",
            "         0.0       0.95      0.84      0.89       707\n",
            "         1.0       0.07      0.22      0.11        41\n",
            "\n",
            "    accuracy                           0.81       748\n",
            "   macro avg       0.51      0.53      0.50       748\n",
            "weighted avg       0.90      0.81      0.85       748\n",
            "\n",
            "############################################################################\n",
            "\n",
            "\n",
            "\n",
            "GradientBoostingClassifier\n",
            "Train score of trained model: 88.39795611662157\n",
            "Validation score of trained model: 78.5809906291834\n",
            "Test score of trained model: 77.27272727272727\n",
            " \n",
            "Confussion Matrix: \n",
            "[[558 149]\n",
            " [ 21  20]]\n",
            "\n",
            "              precision    recall  f1-score   support\n",
            "\n",
            "         0.0       0.96      0.79      0.87       707\n",
            "         1.0       0.12      0.49      0.19        41\n",
            "\n",
            "    accuracy                           0.77       748\n",
            "   macro avg       0.54      0.64      0.53       748\n",
            "weighted avg       0.92      0.77      0.83       748\n",
            "\n",
            "############################################################################\n",
            "\n",
            "\n",
            "\n",
            "Stochastic Gradient Descent\n",
            "Train score of trained model: 77.83288247670575\n",
            "Validation score of trained model: 63.58768406961178\n",
            "Test score of trained model: 63.903743315508024\n",
            " \n",
            "Confussion Matrix: \n",
            "[[445 262]\n",
            " [  8  33]]\n",
            "\n",
            "              precision    recall  f1-score   support\n",
            "\n",
            "         0.0       0.98      0.63      0.77       707\n",
            "         1.0       0.11      0.80      0.20        41\n",
            "\n",
            "    accuracy                           0.64       748\n",
            "   macro avg       0.55      0.72      0.48       748\n",
            "weighted avg       0.93      0.64      0.74       748\n",
            "\n",
            "############################################################################\n",
            "\n",
            "\n",
            "\n",
            "AdaBoostClassifier\n",
            "Train score of trained model: 81.9507063420499\n",
            "Validation score of trained model: 75.50200803212851\n",
            "Test score of trained model: 73.52941176470588\n",
            " \n",
            "Confussion Matrix: \n",
            "[[531 176]\n",
            " [ 22  19]]\n",
            "\n",
            "              precision    recall  f1-score   support\n",
            "\n",
            "         0.0       0.96      0.75      0.84       707\n",
            "         1.0       0.10      0.46      0.16        41\n",
            "\n",
            "    accuracy                           0.74       748\n",
            "   macro avg       0.53      0.61      0.50       748\n",
            "weighted avg       0.91      0.74      0.81       748\n",
            "\n",
            "############################################################################\n",
            "\n",
            "\n",
            "\n"
          ]
        },
        {
          "name": "stderr",
          "output_type": "stream",
          "text": [
            "C:\\Users\\dell\\anaconda3\\lib\\site-packages\\xgboost\\sklearn.py:1146: UserWarning: The use of label encoder in XGBClassifier is deprecated and will be removed in a future release. To remove this warning, do the following: 1) Pass option use_label_encoder=False when constructing XGBClassifier object; and 2) Encode your labels (y) as integers starting with 0, i.e. 0, 1, 2, ..., [num_class - 1].\n",
            "  warnings.warn(label_encoder_deprecation_msg, UserWarning)\n"
          ]
        },
        {
          "name": "stdout",
          "output_type": "stream",
          "text": [
            "[20:47:36] WARNING: C:/Users/Administrator/workspace/xgboost-win64_release_1.4.0/src/learner.cc:1095: Starting in XGBoost 1.3.0, the default evaluation metric used with the objective 'binary:logistic' was changed from 'error' to 'logloss'. Explicitly set eval_metric if you'd like to restore the old behavior.\n",
            "XGBClassifier\n",
            "Train score of trained model: 99.63931469792607\n",
            "Validation score of trained model: 89.95983935742971\n",
            "Test score of trained model: 90.9090909090909\n",
            " \n",
            "Confussion Matrix: \n",
            "[[675  32]\n",
            " [ 36   5]]\n",
            "\n",
            "              precision    recall  f1-score   support\n",
            "\n",
            "         0.0       0.95      0.95      0.95       707\n",
            "         1.0       0.14      0.12      0.13        41\n",
            "\n",
            "    accuracy                           0.91       748\n",
            "   macro avg       0.54      0.54      0.54       748\n",
            "weighted avg       0.90      0.91      0.91       748\n",
            "\n",
            "############################################################################\n",
            "\n",
            "\n",
            "\n"
          ]
        }
      ],
      "source": [
        "models = {\n",
        "        'GaussianNB': GaussianNB(),\n",
        "        'LogisticRegression': LogisticRegression(),\n",
        "        'RandomForestClassifier': RandomForestClassifier(),\n",
        "        'SupportVectorMachine': SVC(),\n",
        "        'DecisionTreeClassifier': DecisionTreeClassifier(),\n",
        "        'KNeighborsClassifier': KNeighborsClassifier(),\n",
        "        'GradientBoostingClassifier': GradientBoostingClassifier(),\n",
        "        'Stochastic Gradient Descent':  SGDClassifier(random_state = 42),\n",
        "        'AdaBoostClassifier': AdaBoostClassifier(),\n",
        "        'XGBClassifier': XGBClassifier()\n",
        "    }\n",
        "\n",
        "modelNames = ['GaussianNB','LogisticRegression','RandomForestClassifier','SupportVectorMachine',\n",
        "                 'DecisionTreeClassifier', 'KNeighborsClassifier','GradientBoostingClassifier',\n",
        "                 'Stochastic Gradient Descent', 'AdaBoostClassifier', 'XGBClassifier']\n",
        "\n",
        "trainScores = []\n",
        "validationScores = []\n",
        "testScores = []\n",
        "\n",
        "for m in models:\n",
        "        model = models[m]\n",
        "        model.fit(X_smote, y_smote)\n",
        "        score = model.score(X_val, y_val)\n",
        "    \n",
        "        print(f'{m}') \n",
        "        train_score = model.score(X_smote, y_smote)\n",
        "        print(f'Train score of trained model: {train_score*100}')\n",
        "        trainScores.append(train_score*100)\n",
        "        \n",
        "\n",
        "        validation_score = model.score(X_val, y_val)\n",
        "        print(f'Validation score of trained model: {validation_score*100}')\n",
        "        validationScores.append(validation_score*100)\n",
        "\n",
        "        test_score = model.score(X_test, y_test)\n",
        "        print(f'Test score of trained model: {test_score*100}')\n",
        "        testScores.append(test_score*100)\n",
        "        print(\" \")\n",
        "    \n",
        "        y_predictions = model.predict(X_test)\n",
        "        auc = roc_auc_score(y_test, y_predictions)\n",
        "        conf_matrix = confusion_matrix(y_test, y_predictions)\n",
        "\n",
        "        print(f'Confussion Matrix: \\n{conf_matrix}\\n')\n",
        "        print(classification_report(y_test, y_predictions))\n",
        "\n",
        "        for m in range (1):\n",
        "            current = modelNames[m]\n",
        "            modelNames.remove(modelNames[m])\n",
        "\n",
        "            preds = model.predict(X_test)\n",
        "            confusion_matr = confusion_matrix(y_test, preds)\n",
        "            print(\"############################################################################\")\n",
        "            print(\"\")\n",
        "            print(\"\")\n",
        "            print(\"\")"
      ]
    },
    {
      "cell_type": "markdown",
      "id": "55a8261d",
      "metadata": {
        "id": "55a8261d"
      },
      "source": [
        "We picked the best model in another notebook, so here we present only one, with the best results"
      ]
    },
    {
      "cell_type": "markdown",
      "id": "d616583c",
      "metadata": {
        "id": "d616583c"
      },
      "source": [
        "### GridSearchCV: LogisticRegression"
      ]
    },
    {
      "cell_type": "code",
      "execution_count": null,
      "id": "8bf153f3",
      "metadata": {
        "id": "8bf153f3",
        "outputId": "eb580115-82c7-40d1-858e-ea334ecf72a6"
      },
      "outputs": [
        {
          "name": "stdout",
          "output_type": "stream",
          "text": [
            "ROC_AUC: 0.7312933383930728\n",
            "Confusion matrix: \n",
            "[[465 242]\n",
            " [  8  33]]\n",
            "Train score of trained model: 89.5701833483619\n",
            "Validation score of trained model: 90.9090909090909\n",
            "Test score of trained model: 80.48780487804879\n",
            " \n",
            "              precision    recall  f1-score   support\n",
            "\n",
            "         0.0       0.98      0.66      0.79       707\n",
            "         1.0       0.12      0.80      0.21        41\n",
            "\n",
            "    accuracy                           0.67       748\n",
            "   macro avg       0.55      0.73      0.50       748\n",
            "weighted avg       0.94      0.67      0.76       748\n",
            "\n"
          ]
        }
      ],
      "source": [
        "param_grid = [\n",
        "    {\n",
        "    'penalty' : ['l1', 'l2'],\n",
        "    'C' : np.logspace(-4, 4, 20),\n",
        "    'solver' : ['liblinear']}]\n",
        "\n",
        "lg = LogisticRegression()\n",
        "\n",
        "clf = GridSearchCV(lg, param_grid = param_grid, scoring = 'recall', cv = 5, n_jobs=-1)\n",
        "\n",
        "clf.fit(X_smote, y_smote)\n",
        "clf.best_params_\n",
        "    \n",
        "y_pred = clf.predict(X_test)\n",
        "    \n",
        "print(f'ROC_AUC: {roc_auc_score(y_test, y_pred)}')\n",
        "print(f'Confusion matrix: \\n{confusion_matrix(y_test, y_pred)}')\n",
        "    \n",
        "train_score = clf.score(X_smote, y_smote)\n",
        "print(f'Train score of trained model: {train_score*100}')  \n",
        "    \n",
        "validation_score = clf.score(X_val, y_val)\n",
        "print(f'Validation score of trained model: {validation_score*100}')\n",
        "    \n",
        "test_score = clf.score(X_test, y_test)\n",
        "print(f'Test score of trained model: {test_score*100}')\n",
        "print(\" \")\n",
        "    \n",
        "print(classification_report(y_test, y_pred))"
      ]
    },
    {
      "cell_type": "markdown",
      "id": "e1660504",
      "metadata": {
        "id": "e1660504"
      },
      "source": [
        "These are the best results we were able to get. We were aiming at increasing recall in order to minimize False Negatives in stroke patients. 0.80 recall for stroke: 1.0 is solid, but it could be improved. \n",
        "Train/test scores are similar enough to conclude that the model is not overfitted."
      ]
    },
    {
      "cell_type": "markdown",
      "id": "18898ed2",
      "metadata": {
        "id": "18898ed2"
      },
      "source": [
        "The weak points of our dataset is huge target imbalance and very small feature-target correlation. This is probably the reason why our best model has ROC_AUC: 0.73, which is not the best, and test score: 80%."
      ]
    }
  ],
  "metadata": {
    "kernelspec": {
      "display_name": "Python 3",
      "language": "python",
      "name": "python3"
    },
    "language_info": {
      "codemirror_mode": {
        "name": "ipython",
        "version": 3
      },
      "file_extension": ".py",
      "mimetype": "text/x-python",
      "name": "python",
      "nbconvert_exporter": "python",
      "pygments_lexer": "ipython3",
      "version": "3.8.8"
    },
    "colab": {
      "name": "stroke_classifier.ipynb",
      "provenance": []
    }
  },
  "nbformat": 4,
  "nbformat_minor": 5
}